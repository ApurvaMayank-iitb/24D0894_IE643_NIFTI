{
  "nbformat": 4,
  "nbformat_minor": 0,
  "metadata": {
    "colab": {
      "provenance": [],
      "authorship_tag": "ABX9TyM/e6eJKNwHb/1dkRw0ezWQ",
      "include_colab_link": true
    },
    "kernelspec": {
      "name": "python3",
      "display_name": "Python 3"
    },
    "language_info": {
      "name": "python"
    }
  },
  "cells": [
    {
      "cell_type": "markdown",
      "metadata": {
        "id": "view-in-github",
        "colab_type": "text"
      },
      "source": [
        "<a href=\"https://colab.research.google.com/github/ApurvaMayank-iitb/24D0894_IE643_NIFTI/blob/main/pytorch_fundamentals.ipynb\" target=\"_parent\"><img src=\"https://colab.research.google.com/assets/colab-badge.svg\" alt=\"Open In Colab\"/></a>"
      ]
    },
    {
      "cell_type": "code",
      "execution_count": 1,
      "metadata": {
        "id": "gNUL8ijjmTGZ"
      },
      "outputs": [],
      "source": [
        "import torch\n",
        "import pandas as pd\n",
        "import matplotlib as plt\n",
        "import numpy as np"
      ]
    },
    {
      "cell_type": "code",
      "source": [
        "print(torch.__version__)"
      ],
      "metadata": {
        "colab": {
          "base_uri": "https://localhost:8080/"
        },
        "id": "gxFlAi5nmnQB",
        "outputId": "609becaa-24e1-4b89-f04f-a2c387b95ee0"
      },
      "execution_count": 2,
      "outputs": [
        {
          "output_type": "stream",
          "name": "stdout",
          "text": [
            "2.5.1+cu121\n"
          ]
        }
      ]
    },
    {
      "cell_type": "code",
      "source": [
        "print(torch.__version__)"
      ],
      "metadata": {
        "colab": {
          "base_uri": "https://localhost:8080/"
        },
        "id": "EmSncO9Vm0as",
        "outputId": "216aae37-a1e5-4593-cba3-ead0c180332f"
      },
      "execution_count": 3,
      "outputs": [
        {
          "output_type": "stream",
          "name": "stdout",
          "text": [
            "2.5.1+cu121\n"
          ]
        }
      ]
    },
    {
      "cell_type": "code",
      "source": [
        "!nvidia-smi"
      ],
      "metadata": {
        "colab": {
          "base_uri": "https://localhost:8080/"
        },
        "id": "QD0icnodm6W3",
        "outputId": "663b7bcf-4bc4-4ccd-b0b7-c11ef7674215"
      },
      "execution_count": 4,
      "outputs": [
        {
          "output_type": "stream",
          "name": "stdout",
          "text": [
            "/bin/bash: line 1: nvidia-smi: command not found\n"
          ]
        }
      ]
    },
    {
      "cell_type": "code",
      "source": [
        "tensor = torch.tensor([7,8,9])"
      ],
      "metadata": {
        "id": "TXKfqhUzndbO"
      },
      "execution_count": 5,
      "outputs": []
    },
    {
      "cell_type": "code",
      "source": [
        "tensor"
      ],
      "metadata": {
        "colab": {
          "base_uri": "https://localhost:8080/"
        },
        "id": "28WYk09MImJk",
        "outputId": "316dc999-c278-4eec-c53b-aeda75b48012"
      },
      "execution_count": 6,
      "outputs": [
        {
          "output_type": "execute_result",
          "data": {
            "text/plain": [
              "tensor([7, 8, 9])"
            ]
          },
          "metadata": {},
          "execution_count": 6
        }
      ]
    },
    {
      "cell_type": "code",
      "source": [
        "tensor.shape"
      ],
      "metadata": {
        "colab": {
          "base_uri": "https://localhost:8080/"
        },
        "id": "_3GcqTZ1Ixnm",
        "outputId": "3e39a615-510e-41f3-fbaa-753a73b870f3"
      },
      "execution_count": 7,
      "outputs": [
        {
          "output_type": "execute_result",
          "data": {
            "text/plain": [
              "torch.Size([3])"
            ]
          },
          "metadata": {},
          "execution_count": 7
        }
      ]
    },
    {
      "cell_type": "code",
      "source": [
        "tensor.ndim"
      ],
      "metadata": {
        "colab": {
          "base_uri": "https://localhost:8080/"
        },
        "id": "rm-PcRpyI06m",
        "outputId": "a97a6afa-a531-408a-ea09-55f2a6d81a6c"
      },
      "execution_count": 8,
      "outputs": [
        {
          "output_type": "execute_result",
          "data": {
            "text/plain": [
              "1"
            ]
          },
          "metadata": {},
          "execution_count": 8
        }
      ]
    },
    {
      "cell_type": "code",
      "source": [
        "matrix = torch.tensor([[[1,2,3],\n",
        "                        [3,4,5],\n",
        "                        [6,7,8]]])"
      ],
      "metadata": {
        "id": "cXSUwlVlI7Tb"
      },
      "execution_count": 9,
      "outputs": []
    },
    {
      "cell_type": "code",
      "source": [
        "matrix.ndim"
      ],
      "metadata": {
        "colab": {
          "base_uri": "https://localhost:8080/"
        },
        "id": "9pDo7_1bJJnb",
        "outputId": "18fbc64a-f16d-4b8c-e818-4d1d2ebe6eae"
      },
      "execution_count": 10,
      "outputs": [
        {
          "output_type": "execute_result",
          "data": {
            "text/plain": [
              "3"
            ]
          },
          "metadata": {},
          "execution_count": 10
        }
      ]
    },
    {
      "cell_type": "code",
      "source": [
        "matrix.shape"
      ],
      "metadata": {
        "colab": {
          "base_uri": "https://localhost:8080/"
        },
        "id": "MpVXq7EaLFcA",
        "outputId": "2b6282b4-2776-4e41-e703-e2f10e1b0557"
      },
      "execution_count": 11,
      "outputs": [
        {
          "output_type": "execute_result",
          "data": {
            "text/plain": [
              "torch.Size([1, 3, 3])"
            ]
          },
          "metadata": {},
          "execution_count": 11
        }
      ]
    },
    {
      "cell_type": "code",
      "source": [
        "matrix[0]"
      ],
      "metadata": {
        "colab": {
          "base_uri": "https://localhost:8080/"
        },
        "id": "3cQOY6YBLHVO",
        "outputId": "55b2c096-2a06-4dc7-804f-9de6c07b7bcf"
      },
      "execution_count": 12,
      "outputs": [
        {
          "output_type": "execute_result",
          "data": {
            "text/plain": [
              "tensor([[1, 2, 3],\n",
              "        [3, 4, 5],\n",
              "        [6, 7, 8]])"
            ]
          },
          "metadata": {},
          "execution_count": 12
        }
      ]
    },
    {
      "cell_type": "code",
      "source": [
        "matrix[0][1][1]"
      ],
      "metadata": {
        "colab": {
          "base_uri": "https://localhost:8080/"
        },
        "id": "VARoCVt_LLTw",
        "outputId": "cba92644-1272-4b88-f5e4-859904ee0863"
      },
      "execution_count": 13,
      "outputs": [
        {
          "output_type": "execute_result",
          "data": {
            "text/plain": [
              "tensor(4)"
            ]
          },
          "metadata": {},
          "execution_count": 13
        }
      ]
    },
    {
      "cell_type": "code",
      "source": [
        "matrix[0][2]"
      ],
      "metadata": {
        "colab": {
          "base_uri": "https://localhost:8080/"
        },
        "id": "RNh2F3e5LPX-",
        "outputId": "7ff9ccc6-fad9-4113-c8ce-6e8462a28155"
      },
      "execution_count": 14,
      "outputs": [
        {
          "output_type": "execute_result",
          "data": {
            "text/plain": [
              "tensor([6, 7, 8])"
            ]
          },
          "metadata": {},
          "execution_count": 14
        }
      ]
    },
    {
      "cell_type": "code",
      "source": [
        "matrix[0][0][2]"
      ],
      "metadata": {
        "colab": {
          "base_uri": "https://localhost:8080/"
        },
        "id": "OKcEIHZfLmiM",
        "outputId": "5baee59e-ae00-4a24-ebc3-364e2ce13f20"
      },
      "execution_count": 15,
      "outputs": [
        {
          "output_type": "execute_result",
          "data": {
            "text/plain": [
              "tensor(3)"
            ]
          },
          "metadata": {},
          "execution_count": 15
        }
      ]
    },
    {
      "cell_type": "code",
      "source": [
        "matrix.shape"
      ],
      "metadata": {
        "colab": {
          "base_uri": "https://localhost:8080/"
        },
        "id": "_irJ_QQ2LrSY",
        "outputId": "7e02b2d2-185a-4fe5-9495-8bb849cf2468"
      },
      "execution_count": 16,
      "outputs": [
        {
          "output_type": "execute_result",
          "data": {
            "text/plain": [
              "torch.Size([1, 3, 3])"
            ]
          },
          "metadata": {},
          "execution_count": 16
        }
      ]
    },
    {
      "cell_type": "code",
      "source": [
        "### Random Tensors"
      ],
      "metadata": {
        "id": "iXbhN5PYTCGL"
      },
      "execution_count": 17,
      "outputs": []
    },
    {
      "cell_type": "markdown",
      "source": [
        "###Random Tensors"
      ],
      "metadata": {
        "id": "eIZ3RljzhFyt"
      }
    },
    {
      "cell_type": "markdown",
      "source": [
        "Random Tensors are important because the way many neural networks learn is that they start with tensors full of random numbers and then adjust those random numbers to better represent the data"
      ],
      "metadata": {
        "id": "93ZtG2E2hQjI"
      }
    },
    {
      "cell_type": "markdown",
      "source": [
        "Start with random numbers >> look at data >> update random numbers>> look at data>> update random numbers"
      ],
      "metadata": {
        "id": "-D-x45aAhvrY"
      }
    },
    {
      "cell_type": "code",
      "source": [
        "## Create a random tensor of size (3,4)\n",
        "random_tensor = torch.rand(3,3,4)"
      ],
      "metadata": {
        "id": "lIiXGX1whK2v"
      },
      "execution_count": 18,
      "outputs": []
    },
    {
      "cell_type": "code",
      "source": [
        "random_tensor"
      ],
      "metadata": {
        "colab": {
          "base_uri": "https://localhost:8080/"
        },
        "id": "I755jBMziJAk",
        "outputId": "6a907c6d-059b-4f45-acd2-ae31eb71f9f8"
      },
      "execution_count": 19,
      "outputs": [
        {
          "output_type": "execute_result",
          "data": {
            "text/plain": [
              "tensor([[[0.4551, 0.4253, 0.9568, 0.2530],\n",
              "         [0.0617, 0.3767, 0.5102, 0.8059],\n",
              "         [0.0848, 0.2443, 0.5260, 0.6041]],\n",
              "\n",
              "        [[0.5383, 0.3188, 0.5207, 0.4076],\n",
              "         [0.3745, 0.8087, 0.6054, 0.2433],\n",
              "         [0.1496, 0.0773, 0.8734, 0.2570]],\n",
              "\n",
              "        [[0.8207, 0.4952, 0.6957, 0.4451],\n",
              "         [0.1867, 0.1848, 0.3536, 0.6357],\n",
              "         [0.7913, 0.5659, 0.8121, 0.0608]]])"
            ]
          },
          "metadata": {},
          "execution_count": 19
        }
      ]
    },
    {
      "cell_type": "code",
      "source": [
        "random_tensor.ndim"
      ],
      "metadata": {
        "colab": {
          "base_uri": "https://localhost:8080/"
        },
        "id": "MuJ83WuyiKk4",
        "outputId": "f20fdb7e-3407-4d96-fdd5-0376d1ff6ed1"
      },
      "execution_count": 20,
      "outputs": [
        {
          "output_type": "execute_result",
          "data": {
            "text/plain": [
              "3"
            ]
          },
          "metadata": {},
          "execution_count": 20
        }
      ]
    },
    {
      "cell_type": "code",
      "source": [
        "random_tensor.shape"
      ],
      "metadata": {
        "colab": {
          "base_uri": "https://localhost:8080/"
        },
        "id": "xnK2TvvIiKFP",
        "outputId": "260893ad-d1ca-4081-c7d3-d7eb678c62f0"
      },
      "execution_count": 21,
      "outputs": [
        {
          "output_type": "execute_result",
          "data": {
            "text/plain": [
              "torch.Size([3, 3, 4])"
            ]
          },
          "metadata": {},
          "execution_count": 21
        }
      ]
    },
    {
      "cell_type": "code",
      "source": [
        "## Create a random tensor with similar shape to an image tensor\n",
        "random_image_size_tensor = torch.rand(size=(224,224,3)) #height, width, color channels (R,G,B)"
      ],
      "metadata": {
        "id": "CziZBFF1iJ07"
      },
      "execution_count": 22,
      "outputs": []
    },
    {
      "cell_type": "code",
      "source": [
        "random_image_size_tensor = torch.rand(size=(224,224,3)) # height, width , colour channels (R,G,B)"
      ],
      "metadata": {
        "id": "42kTKUG3iJnb"
      },
      "execution_count": 23,
      "outputs": []
    },
    {
      "cell_type": "code",
      "source": [
        "random_image_size_tensor.ndim, random_image_size_tensor.shape"
      ],
      "metadata": {
        "colab": {
          "base_uri": "https://localhost:8080/"
        },
        "id": "JftwZeconvTI",
        "outputId": "0de0a0d9-7167-45f7-a28a-b3434e513604"
      },
      "execution_count": 24,
      "outputs": [
        {
          "output_type": "execute_result",
          "data": {
            "text/plain": [
              "(3, torch.Size([224, 224, 3]))"
            ]
          },
          "metadata": {},
          "execution_count": 24
        }
      ]
    },
    {
      "cell_type": "code",
      "source": [
        "random_image_size_tensor"
      ],
      "metadata": {
        "colab": {
          "base_uri": "https://localhost:8080/"
        },
        "id": "53nFXg3zn5ox",
        "outputId": "a5fbf3d9-49b5-47d4-9328-10162bd1a266"
      },
      "execution_count": 25,
      "outputs": [
        {
          "output_type": "execute_result",
          "data": {
            "text/plain": [
              "tensor([[[6.8912e-01, 9.4818e-01, 2.0430e-01],\n",
              "         [4.8924e-01, 1.5877e-01, 5.0378e-01],\n",
              "         [6.3083e-01, 2.1557e-01, 2.7991e-01],\n",
              "         ...,\n",
              "         [3.1612e-01, 3.5792e-01, 3.5865e-01],\n",
              "         [2.6142e-01, 7.6917e-01, 2.9940e-01],\n",
              "         [3.4250e-01, 1.2336e-01, 6.2834e-02]],\n",
              "\n",
              "        [[6.6254e-01, 9.5497e-01, 6.3550e-01],\n",
              "         [1.1917e-01, 9.1919e-01, 4.5613e-01],\n",
              "         [9.9389e-01, 1.5034e-01, 9.6082e-01],\n",
              "         ...,\n",
              "         [2.7307e-02, 4.9652e-01, 8.7594e-01],\n",
              "         [1.8200e-01, 9.4257e-01, 3.9532e-01],\n",
              "         [6.5244e-01, 5.9013e-01, 8.0321e-01]],\n",
              "\n",
              "        [[4.2178e-01, 1.8791e-01, 6.1637e-01],\n",
              "         [3.2892e-01, 4.5297e-01, 1.0859e-01],\n",
              "         [2.1845e-01, 9.7724e-01, 4.4998e-01],\n",
              "         ...,\n",
              "         [8.6154e-01, 9.4371e-01, 7.0687e-01],\n",
              "         [7.3732e-01, 6.9676e-01, 5.8761e-01],\n",
              "         [5.5563e-01, 6.2881e-01, 5.2834e-01]],\n",
              "\n",
              "        ...,\n",
              "\n",
              "        [[3.4615e-01, 4.9743e-01, 4.9806e-04],\n",
              "         [9.0491e-01, 7.2121e-01, 5.8429e-01],\n",
              "         [2.0652e-02, 6.0236e-01, 3.3767e-01],\n",
              "         ...,\n",
              "         [3.0409e-01, 8.4126e-01, 7.6493e-01],\n",
              "         [7.1652e-01, 3.4137e-02, 1.8390e-01],\n",
              "         [8.5285e-01, 2.6490e-01, 9.5875e-01]],\n",
              "\n",
              "        [[6.8836e-01, 5.5410e-01, 5.0909e-01],\n",
              "         [8.2829e-01, 6.7874e-01, 7.2427e-01],\n",
              "         [2.0990e-01, 6.9374e-01, 7.2389e-02],\n",
              "         ...,\n",
              "         [4.3859e-01, 8.3262e-01, 2.7740e-01],\n",
              "         [4.0422e-01, 2.0301e-01, 5.1062e-01],\n",
              "         [3.2494e-01, 7.3296e-01, 8.6609e-02]],\n",
              "\n",
              "        [[6.0527e-01, 8.4191e-02, 9.2159e-02],\n",
              "         [9.5358e-03, 7.6274e-01, 6.4592e-01],\n",
              "         [7.1084e-01, 6.9546e-01, 5.2976e-01],\n",
              "         ...,\n",
              "         [7.5538e-02, 4.7050e-01, 5.9332e-01],\n",
              "         [1.8059e-01, 2.1825e-01, 4.3443e-01],\n",
              "         [4.8624e-01, 6.0648e-01, 6.7710e-01]]])"
            ]
          },
          "metadata": {},
          "execution_count": 25
        }
      ]
    },
    {
      "cell_type": "code",
      "source": [
        "### Zeros and Ones"
      ],
      "metadata": {
        "id": "TBLGWPVQoasG"
      },
      "execution_count": 26,
      "outputs": []
    },
    {
      "cell_type": "code",
      "source": [
        "zero = torch.zeros(size=(3,4))"
      ],
      "metadata": {
        "id": "n2I5OXU7pZep"
      },
      "execution_count": 27,
      "outputs": []
    },
    {
      "cell_type": "code",
      "source": [
        "zero"
      ],
      "metadata": {
        "colab": {
          "base_uri": "https://localhost:8080/"
        },
        "id": "7Pn4XdqSpfGj",
        "outputId": "6c8044e9-824d-4d6d-d728-4eb0d8e7f020"
      },
      "execution_count": 28,
      "outputs": [
        {
          "output_type": "execute_result",
          "data": {
            "text/plain": [
              "tensor([[0., 0., 0., 0.],\n",
              "        [0., 0., 0., 0.],\n",
              "        [0., 0., 0., 0.]])"
            ]
          },
          "metadata": {},
          "execution_count": 28
        }
      ]
    },
    {
      "cell_type": "code",
      "source": [
        "zero = torch.zeros(3,4)\n",
        "zero"
      ],
      "metadata": {
        "colab": {
          "base_uri": "https://localhost:8080/"
        },
        "id": "y3xwisaJpf_R",
        "outputId": "60730a08-1f2f-4833-bcdc-40d89fc1ac67"
      },
      "execution_count": 29,
      "outputs": [
        {
          "output_type": "execute_result",
          "data": {
            "text/plain": [
              "tensor([[0., 0., 0., 0.],\n",
              "        [0., 0., 0., 0.],\n",
              "        [0., 0., 0., 0.]])"
            ]
          },
          "metadata": {},
          "execution_count": 29
        }
      ]
    },
    {
      "cell_type": "code",
      "source": [
        "ones = torch.ones(size=(4,5))\n",
        "ones"
      ],
      "metadata": {
        "colab": {
          "base_uri": "https://localhost:8080/"
        },
        "id": "Dt-EpkLGpmKH",
        "outputId": "3be888a1-f72b-4c45-eef5-ba8ff498e165"
      },
      "execution_count": 30,
      "outputs": [
        {
          "output_type": "execute_result",
          "data": {
            "text/plain": [
              "tensor([[1., 1., 1., 1., 1.],\n",
              "        [1., 1., 1., 1., 1.],\n",
              "        [1., 1., 1., 1., 1.],\n",
              "        [1., 1., 1., 1., 1.]])"
            ]
          },
          "metadata": {},
          "execution_count": 30
        }
      ]
    },
    {
      "cell_type": "code",
      "source": [
        "ones.dtype"
      ],
      "metadata": {
        "colab": {
          "base_uri": "https://localhost:8080/"
        },
        "id": "OmEdk-6QqxYy",
        "outputId": "2d92cd18-33d8-4c20-df55-2e349449ae8d"
      },
      "execution_count": 31,
      "outputs": [
        {
          "output_type": "execute_result",
          "data": {
            "text/plain": [
              "torch.float32"
            ]
          },
          "metadata": {},
          "execution_count": 31
        }
      ]
    },
    {
      "cell_type": "markdown",
      "source": [
        "Range and Tensors like other tensor"
      ],
      "metadata": {
        "id": "cOQpI-altUE5"
      }
    },
    {
      "cell_type": "code",
      "source": [
        "# Use torch.range()\n",
        "torch.range(0,10)"
      ],
      "metadata": {
        "colab": {
          "base_uri": "https://localhost:8080/"
        },
        "id": "PhYI2VB-q_jl",
        "outputId": "636aea82-ec51-4cc5-8534-25c08e2b4bff"
      },
      "execution_count": 32,
      "outputs": [
        {
          "output_type": "stream",
          "name": "stderr",
          "text": [
            "<ipython-input-32-a70e3231c961>:2: UserWarning: torch.range is deprecated and will be removed in a future release because its behavior is inconsistent with Python's range builtin. Instead, use torch.arange, which produces values in [start, end).\n",
            "  torch.range(0,10)\n"
          ]
        },
        {
          "output_type": "execute_result",
          "data": {
            "text/plain": [
              "tensor([ 0.,  1.,  2.,  3.,  4.,  5.,  6.,  7.,  8.,  9., 10.])"
            ]
          },
          "metadata": {},
          "execution_count": 32
        }
      ]
    },
    {
      "cell_type": "code",
      "source": [
        "one_to_ten = torch.arange(1,11)"
      ],
      "metadata": {
        "id": "bnM7I9f_eYNd"
      },
      "execution_count": 33,
      "outputs": []
    },
    {
      "cell_type": "code",
      "source": [
        "one_to_ten"
      ],
      "metadata": {
        "colab": {
          "base_uri": "https://localhost:8080/"
        },
        "id": "RoRVZ60Je2i9",
        "outputId": "c6c90651-1007-49af-f30f-492f3bd29e55"
      },
      "execution_count": 34,
      "outputs": [
        {
          "output_type": "execute_result",
          "data": {
            "text/plain": [
              "tensor([ 1,  2,  3,  4,  5,  6,  7,  8,  9, 10])"
            ]
          },
          "metadata": {},
          "execution_count": 34
        }
      ]
    },
    {
      "cell_type": "code",
      "source": [
        "one_to_thousand = torch.arange(start=1, end= 1000, step = 7)\n",
        "one_to_thousand"
      ],
      "metadata": {
        "colab": {
          "base_uri": "https://localhost:8080/"
        },
        "id": "aSiFOzmxe4ew",
        "outputId": "34f632d3-cf7f-4b23-be33-bdc7ea4ce13f"
      },
      "execution_count": 35,
      "outputs": [
        {
          "output_type": "execute_result",
          "data": {
            "text/plain": [
              "tensor([  1,   8,  15,  22,  29,  36,  43,  50,  57,  64,  71,  78,  85,  92,\n",
              "         99, 106, 113, 120, 127, 134, 141, 148, 155, 162, 169, 176, 183, 190,\n",
              "        197, 204, 211, 218, 225, 232, 239, 246, 253, 260, 267, 274, 281, 288,\n",
              "        295, 302, 309, 316, 323, 330, 337, 344, 351, 358, 365, 372, 379, 386,\n",
              "        393, 400, 407, 414, 421, 428, 435, 442, 449, 456, 463, 470, 477, 484,\n",
              "        491, 498, 505, 512, 519, 526, 533, 540, 547, 554, 561, 568, 575, 582,\n",
              "        589, 596, 603, 610, 617, 624, 631, 638, 645, 652, 659, 666, 673, 680,\n",
              "        687, 694, 701, 708, 715, 722, 729, 736, 743, 750, 757, 764, 771, 778,\n",
              "        785, 792, 799, 806, 813, 820, 827, 834, 841, 848, 855, 862, 869, 876,\n",
              "        883, 890, 897, 904, 911, 918, 925, 932, 939, 946, 953, 960, 967, 974,\n",
              "        981, 988, 995])"
            ]
          },
          "metadata": {},
          "execution_count": 35
        }
      ]
    },
    {
      "cell_type": "code",
      "source": [
        "# creating tensors like\n",
        "ten_zeros = torch.zeros_like(input = one_to_thousand)\n",
        "ten_zeros"
      ],
      "metadata": {
        "colab": {
          "base_uri": "https://localhost:8080/"
        },
        "id": "vgM_z7ohfSSL",
        "outputId": "6611c9f7-2b31-4945-f76e-2f25fe816226"
      },
      "execution_count": 36,
      "outputs": [
        {
          "output_type": "execute_result",
          "data": {
            "text/plain": [
              "tensor([0, 0, 0, 0, 0, 0, 0, 0, 0, 0, 0, 0, 0, 0, 0, 0, 0, 0, 0, 0, 0, 0, 0, 0,\n",
              "        0, 0, 0, 0, 0, 0, 0, 0, 0, 0, 0, 0, 0, 0, 0, 0, 0, 0, 0, 0, 0, 0, 0, 0,\n",
              "        0, 0, 0, 0, 0, 0, 0, 0, 0, 0, 0, 0, 0, 0, 0, 0, 0, 0, 0, 0, 0, 0, 0, 0,\n",
              "        0, 0, 0, 0, 0, 0, 0, 0, 0, 0, 0, 0, 0, 0, 0, 0, 0, 0, 0, 0, 0, 0, 0, 0,\n",
              "        0, 0, 0, 0, 0, 0, 0, 0, 0, 0, 0, 0, 0, 0, 0, 0, 0, 0, 0, 0, 0, 0, 0, 0,\n",
              "        0, 0, 0, 0, 0, 0, 0, 0, 0, 0, 0, 0, 0, 0, 0, 0, 0, 0, 0, 0, 0, 0, 0])"
            ]
          },
          "metadata": {},
          "execution_count": 36
        }
      ]
    },
    {
      "cell_type": "code",
      "source": [
        "ten_zeros.size"
      ],
      "metadata": {
        "colab": {
          "base_uri": "https://localhost:8080/"
        },
        "id": "EepS7grCf3z3",
        "outputId": "112a28a1-1948-4b16-88a7-a1d1bc1a94a3"
      },
      "execution_count": 37,
      "outputs": [
        {
          "output_type": "execute_result",
          "data": {
            "text/plain": [
              "<function Tensor.size>"
            ]
          },
          "metadata": {},
          "execution_count": 37
        }
      ]
    },
    {
      "cell_type": "markdown",
      "source": [
        "## Dealing with tensor datatypes"
      ],
      "metadata": {
        "id": "l6Fe_4BRJi6I"
      }
    },
    {
      "cell_type": "code",
      "source": [
        "# Float 32 Tensor\n",
        "float_32_tensor = torch.tensor([3.0,6.0,9.0],\n",
        "                               dtype=None)"
      ],
      "metadata": {
        "id": "Stsw3mRef9np"
      },
      "execution_count": 38,
      "outputs": []
    },
    {
      "cell_type": "code",
      "source": [
        "float_32_tensor"
      ],
      "metadata": {
        "id": "xOJU7JGbgJ2g",
        "colab": {
          "base_uri": "https://localhost:8080/"
        },
        "outputId": "ed030b45-c51f-4db3-b7b4-79d3b474fbb3"
      },
      "execution_count": 39,
      "outputs": [
        {
          "output_type": "execute_result",
          "data": {
            "text/plain": [
              "tensor([3., 6., 9.])"
            ]
          },
          "metadata": {},
          "execution_count": 39
        }
      ]
    },
    {
      "cell_type": "code",
      "source": [
        "float_32_tensor.dtype"
      ],
      "metadata": {
        "colab": {
          "base_uri": "https://localhost:8080/"
        },
        "id": "ANBS-AnxJ-bo",
        "outputId": "8724ea58-287f-4170-b233-a62cfc5da491"
      },
      "execution_count": 40,
      "outputs": [
        {
          "output_type": "execute_result",
          "data": {
            "text/plain": [
              "torch.float32"
            ]
          },
          "metadata": {},
          "execution_count": 40
        }
      ]
    },
    {
      "cell_type": "code",
      "source": [
        "float_16_tensor = float_32_tensor.type(torch.float16)"
      ],
      "metadata": {
        "id": "MYZDDw1fKEzb"
      },
      "execution_count": 41,
      "outputs": []
    },
    {
      "cell_type": "code",
      "source": [
        "float_16_tensor.dtype"
      ],
      "metadata": {
        "colab": {
          "base_uri": "https://localhost:8080/"
        },
        "id": "vZ04k-S9KX1s",
        "outputId": "6f687a01-3883-4ee6-b761-fc0c06f85aeb"
      },
      "execution_count": 42,
      "outputs": [
        {
          "output_type": "execute_result",
          "data": {
            "text/plain": [
              "torch.float16"
            ]
          },
          "metadata": {},
          "execution_count": 42
        }
      ]
    },
    {
      "cell_type": "code",
      "source": [
        "float_32_tensor = torch.tensor([3.0,6.0,9.0],\n",
        "                               dtype = None, # what datatype is the tensor (e.g float32 or float16)\n",
        "                               device= None, # What device is your tensor on\n",
        "                               requires_grad = False) # Wheter or not to track gradients with this tensors operation\n",
        "float_32_tensor"
      ],
      "metadata": {
        "colab": {
          "base_uri": "https://localhost:8080/"
        },
        "id": "UZxqgPmTKnre",
        "outputId": "eaba753d-261f-45da-effa-1a14907c9815"
      },
      "execution_count": 43,
      "outputs": [
        {
          "output_type": "execute_result",
          "data": {
            "text/plain": [
              "tensor([3., 6., 9.])"
            ]
          },
          "metadata": {},
          "execution_count": 43
        }
      ]
    },
    {
      "cell_type": "markdown",
      "source": [
        "### Note : Tensor datatype is one of the 3 big errors you\"ll run into with PyTorch & deep learning :\n",
        "\n",
        "1. Tensor not right datatype\n",
        "2. Tensor not right shape\n",
        "3. Tensor not on the right device"
      ],
      "metadata": {
        "id": "8sqDVm0bNeqg"
      }
    },
    {
      "cell_type": "code",
      "source": [
        "float_16_tensor * float_32_tensor"
      ],
      "metadata": {
        "colab": {
          "base_uri": "https://localhost:8080/"
        },
        "id": "EEckD_JHLQei",
        "outputId": "de5beb93-a2c6-4775-b560-49d4f10ccaba"
      },
      "execution_count": 44,
      "outputs": [
        {
          "output_type": "execute_result",
          "data": {
            "text/plain": [
              "tensor([ 9., 36., 81.])"
            ]
          },
          "metadata": {},
          "execution_count": 44
        }
      ]
    },
    {
      "cell_type": "code",
      "source": [
        "int_32_tensor = torch.tensor([3,6,9],dtype = torch.int32)\n",
        "int_32_tensor"
      ],
      "metadata": {
        "colab": {
          "base_uri": "https://localhost:8080/"
        },
        "id": "3M-9vWOGPkHP",
        "outputId": "3f90ca19-99be-4fe4-9d4c-e4356548bad7"
      },
      "execution_count": 45,
      "outputs": [
        {
          "output_type": "execute_result",
          "data": {
            "text/plain": [
              "tensor([3, 6, 9], dtype=torch.int32)"
            ]
          },
          "metadata": {},
          "execution_count": 45
        }
      ]
    },
    {
      "cell_type": "code",
      "source": [
        "float_32_tensor * int_32_tensor"
      ],
      "metadata": {
        "colab": {
          "base_uri": "https://localhost:8080/"
        },
        "id": "1kbJSugkQoBE",
        "outputId": "1c9ea235-a716-4a31-f7e9-8066ad5931f0"
      },
      "execution_count": 46,
      "outputs": [
        {
          "output_type": "execute_result",
          "data": {
            "text/plain": [
              "tensor([ 9., 36., 81.])"
            ]
          },
          "metadata": {},
          "execution_count": 46
        }
      ]
    },
    {
      "cell_type": "markdown",
      "source": [
        "### Getting Information from Tensors\n",
        "\n",
        "1. Tensor not right datatype - do get datatype from a tensor , can use \"tensor.dtype\"\n",
        "2. Tensor not right shape - to get shape from a tensor , can use \"tensor.shape\"\n",
        "3. Tensor not right device - to get the device from a tensor , can use \"tensor.device\""
      ],
      "metadata": {
        "id": "7p87PtB0RhVY"
      }
    },
    {
      "cell_type": "code",
      "source": [
        "some_tensor = torch.rand(3,4)\n",
        "some_tensor"
      ],
      "metadata": {
        "colab": {
          "base_uri": "https://localhost:8080/"
        },
        "id": "1yzfobLGRMyX",
        "outputId": "e587fd37-1827-494a-c267-9508cbe723d3"
      },
      "execution_count": 47,
      "outputs": [
        {
          "output_type": "execute_result",
          "data": {
            "text/plain": [
              "tensor([[0.6385, 0.4338, 0.7162, 0.9541],\n",
              "        [0.8179, 0.9341, 0.8916, 0.2088],\n",
              "        [0.5787, 0.8471, 0.6244, 0.5146]])"
            ]
          },
          "metadata": {},
          "execution_count": 47
        }
      ]
    },
    {
      "cell_type": "code",
      "source": [
        "## Find out details about some_tensor"
      ],
      "metadata": {
        "id": "ZTLhnf30z5Ec"
      },
      "execution_count": 48,
      "outputs": []
    },
    {
      "cell_type": "code",
      "source": [
        "print(some_tensor)\n",
        "print(f\"Datatype of tensor = {some_tensor.dtype}\")\n",
        "print(f\"Shape of tensor = {some_tensor.shape}\")\n",
        "print(f\"Device of the tensor = {some_tensor.device}\")"
      ],
      "metadata": {
        "colab": {
          "base_uri": "https://localhost:8080/"
        },
        "id": "v9T9v9se0ErG",
        "outputId": "69aa453c-6c66-4bc1-c17f-473237d3053e"
      },
      "execution_count": 49,
      "outputs": [
        {
          "output_type": "stream",
          "name": "stdout",
          "text": [
            "tensor([[0.6385, 0.4338, 0.7162, 0.9541],\n",
            "        [0.8179, 0.9341, 0.8916, 0.2088],\n",
            "        [0.5787, 0.8471, 0.6244, 0.5146]])\n",
            "Datatype of tensor = torch.float32\n",
            "Shape of tensor = torch.Size([3, 4])\n",
            "Device of the tensor = cpu\n"
          ]
        }
      ]
    },
    {
      "cell_type": "markdown",
      "source": [
        "## Manipulating Tensors ( Tensor operations)\n",
        "Tensor operations include addition ,subtraction , multiplication(element wise) , division and matrix multiplication"
      ],
      "metadata": {
        "id": "yEQYeoD72mc8"
      }
    },
    {
      "cell_type": "code",
      "source": [
        "## Create a tensor\n",
        "tensor = torch.tensor([1,2,3])\n",
        "tensor+10"
      ],
      "metadata": {
        "colab": {
          "base_uri": "https://localhost:8080/"
        },
        "id": "LdLe2qak0qW3",
        "outputId": "6013fbd0-eb63-4bad-b69e-f7e4693d22b7"
      },
      "execution_count": 50,
      "outputs": [
        {
          "output_type": "execute_result",
          "data": {
            "text/plain": [
              "tensor([11, 12, 13])"
            ]
          },
          "metadata": {},
          "execution_count": 50
        }
      ]
    },
    {
      "cell_type": "code",
      "source": [
        "tensor + 100"
      ],
      "metadata": {
        "colab": {
          "base_uri": "https://localhost:8080/"
        },
        "id": "pJQrrONM3Qwy",
        "outputId": "b9fae5cf-5c6f-4c40-80ea-872e12ce7b42"
      },
      "execution_count": 51,
      "outputs": [
        {
          "output_type": "execute_result",
          "data": {
            "text/plain": [
              "tensor([101, 102, 103])"
            ]
          },
          "metadata": {},
          "execution_count": 51
        }
      ]
    },
    {
      "cell_type": "code",
      "source": [
        "# Multiply tensor by 10\n",
        "tensor  = tensor*10"
      ],
      "metadata": {
        "id": "481GY-WX3ZpD"
      },
      "execution_count": 52,
      "outputs": []
    },
    {
      "cell_type": "code",
      "source": [
        "tensor"
      ],
      "metadata": {
        "colab": {
          "base_uri": "https://localhost:8080/"
        },
        "id": "AXautpvI3gBR",
        "outputId": "4562a168-a00d-4d7c-d5d7-4d40f4d38868"
      },
      "execution_count": 53,
      "outputs": [
        {
          "output_type": "execute_result",
          "data": {
            "text/plain": [
              "tensor([10, 20, 30])"
            ]
          },
          "metadata": {},
          "execution_count": 53
        }
      ]
    },
    {
      "cell_type": "code",
      "source": [
        "tensor - 10"
      ],
      "metadata": {
        "colab": {
          "base_uri": "https://localhost:8080/"
        },
        "id": "Y3v9-UYZ3n2R",
        "outputId": "4e0f34aa-0f3f-4b18-9ebf-f6b2463b3195"
      },
      "execution_count": 54,
      "outputs": [
        {
          "output_type": "execute_result",
          "data": {
            "text/plain": [
              "tensor([ 0, 10, 20])"
            ]
          },
          "metadata": {},
          "execution_count": 54
        }
      ]
    },
    {
      "cell_type": "code",
      "source": [
        "## Try out Pytorch inbuilt functions\n",
        "torch.mul(tensor,10)"
      ],
      "metadata": {
        "colab": {
          "base_uri": "https://localhost:8080/"
        },
        "id": "m83NFGnp4CDn",
        "outputId": "ff7241f5-5b70-4edd-9f18-ad2615e948aa"
      },
      "execution_count": 55,
      "outputs": [
        {
          "output_type": "execute_result",
          "data": {
            "text/plain": [
              "tensor([100, 200, 300])"
            ]
          },
          "metadata": {},
          "execution_count": 55
        }
      ]
    },
    {
      "cell_type": "code",
      "source": [
        "torch.add(tensor,20)"
      ],
      "metadata": {
        "colab": {
          "base_uri": "https://localhost:8080/"
        },
        "id": "sKTflSll4Uud",
        "outputId": "f1132cc1-c49b-41ab-89fe-aff8713ed4cb"
      },
      "execution_count": 56,
      "outputs": [
        {
          "output_type": "execute_result",
          "data": {
            "text/plain": [
              "tensor([30, 40, 50])"
            ]
          },
          "metadata": {},
          "execution_count": 56
        }
      ]
    },
    {
      "cell_type": "markdown",
      "source": [
        "## Matrix Multiplication\n",
        "There are two main ways of performing mutiplication in neural networks and deep learning :\n",
        "\n",
        "1. Element wise multiplication\n",
        "2. Matrix multiplication(dot product)"
      ],
      "metadata": {
        "id": "pqZtWERsEWa4"
      }
    },
    {
      "cell_type": "markdown",
      "source": [
        "More information on multiplying matrices - https://www.mathisfun.com/algebra/matrix-multiplying.html"
      ],
      "metadata": {
        "id": "_90KZ9N5GAUE"
      }
    },
    {
      "cell_type": "markdown",
      "source": [
        "ELement wise multiplication\n"
      ],
      "metadata": {
        "id": "OUHJ-yAsHDJJ"
      }
    },
    {
      "cell_type": "code",
      "source": [
        "tensor*tensor\n"
      ],
      "metadata": {
        "colab": {
          "base_uri": "https://localhost:8080/"
        },
        "id": "W5qey7KyEg8U",
        "outputId": "5b0a87e8-b8a1-4399-a062-9d3f6bf232ff"
      },
      "execution_count": 57,
      "outputs": [
        {
          "output_type": "execute_result",
          "data": {
            "text/plain": [
              "tensor([100, 400, 900])"
            ]
          },
          "metadata": {},
          "execution_count": 57
        }
      ]
    },
    {
      "cell_type": "code",
      "source": [
        "print(tensor,\"*\",tensor)\n",
        "print(f\"Equals : {tensor*tensor}\")"
      ],
      "metadata": {
        "colab": {
          "base_uri": "https://localhost:8080/"
        },
        "id": "IxvvwRvVHNXE",
        "outputId": "af07cbb5-beb0-48b0-db40-2ef86d491e54"
      },
      "execution_count": 58,
      "outputs": [
        {
          "output_type": "stream",
          "name": "stdout",
          "text": [
            "tensor([10, 20, 30]) * tensor([10, 20, 30])\n",
            "Equals : tensor([100, 400, 900])\n"
          ]
        }
      ]
    },
    {
      "cell_type": "code",
      "source": [
        "# Matrix multiplication\n",
        "torch.matmul(tensor,tensor)"
      ],
      "metadata": {
        "colab": {
          "base_uri": "https://localhost:8080/"
        },
        "id": "f5cm5g9HHkp0",
        "outputId": "929b5de2-60d2-4802-ea9c-568394adfac3"
      },
      "execution_count": 59,
      "outputs": [
        {
          "output_type": "execute_result",
          "data": {
            "text/plain": [
              "tensor(1400)"
            ]
          },
          "metadata": {},
          "execution_count": 59
        }
      ]
    },
    {
      "cell_type": "code",
      "source": [
        "## Matrix multiplication by hand"
      ],
      "metadata": {
        "id": "Gw6gF_-oHwxR"
      },
      "execution_count": 60,
      "outputs": []
    },
    {
      "cell_type": "code",
      "source": [
        "10*10+ 20*20+ 30*30"
      ],
      "metadata": {
        "colab": {
          "base_uri": "https://localhost:8080/"
        },
        "id": "56ZFO5M5IGGg",
        "outputId": "ceeb86b7-c924-4b94-9a42-cda34dd3606e"
      },
      "execution_count": 61,
      "outputs": [
        {
          "output_type": "execute_result",
          "data": {
            "text/plain": [
              "1400"
            ]
          },
          "metadata": {},
          "execution_count": 61
        }
      ]
    },
    {
      "cell_type": "code",
      "source": [
        "%%time\n",
        "value = 0\n",
        "for i in range(len(tensor)):\n",
        "  value += tensor[i] * tensor[i]\n",
        "print(value)"
      ],
      "metadata": {
        "colab": {
          "base_uri": "https://localhost:8080/"
        },
        "id": "ggrRPfLIIOX3",
        "outputId": "218f078f-afdc-455c-d32b-179820a1269f"
      },
      "execution_count": 62,
      "outputs": [
        {
          "output_type": "stream",
          "name": "stdout",
          "text": [
            "tensor(1400)\n",
            "CPU times: user 2.2 ms, sys: 0 ns, total: 2.2 ms\n",
            "Wall time: 4.39 ms\n"
          ]
        }
      ]
    },
    {
      "cell_type": "code",
      "source": [
        "%%time\n",
        "torch.matmul(tensor,tensor)"
      ],
      "metadata": {
        "colab": {
          "base_uri": "https://localhost:8080/"
        },
        "id": "5Qn4vfzMIne7",
        "outputId": "6e92cbb4-f7d4-4574-dca1-240b8a92d5d7"
      },
      "execution_count": 63,
      "outputs": [
        {
          "output_type": "stream",
          "name": "stdout",
          "text": [
            "CPU times: user 73 µs, sys: 11 µs, total: 84 µs\n",
            "Wall time: 89.9 µs\n"
          ]
        },
        {
          "output_type": "execute_result",
          "data": {
            "text/plain": [
              "tensor(1400)"
            ]
          },
          "metadata": {},
          "execution_count": 63
        }
      ]
    },
    {
      "cell_type": "markdown",
      "source": [
        "There are two main rules that performing matrix multiplication needs to satisfy.\n",
        "\n",
        "Inner dimensions must match\n",
        "(3,2) @ (3,2) won't work\n",
        "(2,3) @ (3,2) will work\n",
        "(3,2) @ (2,3) will work"
      ],
      "metadata": {
        "id": "U60KyYZcJpb5"
      }
    },
    {
      "cell_type": "code",
      "source": [
        "torch.matmul(torch.rand(2,3),torch.rand(3,2))"
      ],
      "metadata": {
        "colab": {
          "base_uri": "https://localhost:8080/"
        },
        "id": "NylZzVKvI7C-",
        "outputId": "49cf7790-7316-442d-b04e-eeb61d6fb50c"
      },
      "execution_count": 64,
      "outputs": [
        {
          "output_type": "execute_result",
          "data": {
            "text/plain": [
              "tensor([[1.3381, 1.0421],\n",
              "        [0.4026, 0.2945]])"
            ]
          },
          "metadata": {},
          "execution_count": 64
        }
      ]
    },
    {
      "cell_type": "markdown",
      "source": [
        "The resulting matrix has the shape of the outer dmensions"
      ],
      "metadata": {
        "id": "55llTPiGMYYP"
      }
    },
    {
      "cell_type": "code",
      "source": [
        "x= (torch.rand(10,10) @ torch.rand(10,10))\n",
        "x"
      ],
      "metadata": {
        "colab": {
          "base_uri": "https://localhost:8080/"
        },
        "id": "nHIZI7LvKhHa",
        "outputId": "2b2f18bb-f2a8-4c66-ae6c-017fd9ced156"
      },
      "execution_count": 65,
      "outputs": [
        {
          "output_type": "execute_result",
          "data": {
            "text/plain": [
              "tensor([[2.1419, 2.1760, 2.8335, 2.6808, 1.8448, 2.3507, 2.0932, 2.0600, 1.8267,\n",
              "         2.2424],\n",
              "        [2.3615, 2.2190, 3.0200, 2.1508, 1.4499, 2.1239, 1.6814, 1.9113, 1.7067,\n",
              "         1.9952],\n",
              "        [1.8692, 1.2772, 1.2598, 1.5838, 1.8954, 1.5385, 1.5701, 2.0959, 0.9633,\n",
              "         1.5298],\n",
              "        [1.8761, 1.6038, 1.8870, 1.6903, 1.7355, 1.6477, 1.5743, 1.9164, 1.0561,\n",
              "         1.5220],\n",
              "        [2.2591, 2.3337, 3.1942, 2.4138, 1.6382, 2.1376, 1.8529, 1.5482, 1.4426,\n",
              "         2.3062],\n",
              "        [1.5112, 1.7713, 2.4098, 2.0822, 1.1519, 1.8350, 1.2173, 1.2674, 1.2813,\n",
              "         1.8327],\n",
              "        [2.2454, 2.6885, 3.2279, 2.7262, 1.4446, 1.9196, 1.8874, 1.8519, 1.7826,\n",
              "         2.3957],\n",
              "        [2.5867, 2.4331, 3.6931, 2.8631, 1.9994, 2.8394, 2.3576, 2.1863, 2.2587,\n",
              "         2.2598],\n",
              "        [2.2436, 2.5661, 3.2491, 3.1749, 1.7272, 2.5003, 1.9673, 1.8453, 1.7232,\n",
              "         3.0510],\n",
              "        [2.3705, 2.0679, 3.4247, 2.8460, 1.4045, 2.3644, 1.9207, 1.2555, 1.7726,\n",
              "         2.9079]])"
            ]
          },
          "metadata": {},
          "execution_count": 65
        }
      ]
    },
    {
      "cell_type": "code",
      "source": [
        "print(x)"
      ],
      "metadata": {
        "colab": {
          "base_uri": "https://localhost:8080/"
        },
        "id": "8-RrTaJSMnVF",
        "outputId": "501684da-ec0a-4b0a-c2af-2089caf729fe"
      },
      "execution_count": 66,
      "outputs": [
        {
          "output_type": "stream",
          "name": "stdout",
          "text": [
            "tensor([[2.1419, 2.1760, 2.8335, 2.6808, 1.8448, 2.3507, 2.0932, 2.0600, 1.8267,\n",
            "         2.2424],\n",
            "        [2.3615, 2.2190, 3.0200, 2.1508, 1.4499, 2.1239, 1.6814, 1.9113, 1.7067,\n",
            "         1.9952],\n",
            "        [1.8692, 1.2772, 1.2598, 1.5838, 1.8954, 1.5385, 1.5701, 2.0959, 0.9633,\n",
            "         1.5298],\n",
            "        [1.8761, 1.6038, 1.8870, 1.6903, 1.7355, 1.6477, 1.5743, 1.9164, 1.0561,\n",
            "         1.5220],\n",
            "        [2.2591, 2.3337, 3.1942, 2.4138, 1.6382, 2.1376, 1.8529, 1.5482, 1.4426,\n",
            "         2.3062],\n",
            "        [1.5112, 1.7713, 2.4098, 2.0822, 1.1519, 1.8350, 1.2173, 1.2674, 1.2813,\n",
            "         1.8327],\n",
            "        [2.2454, 2.6885, 3.2279, 2.7262, 1.4446, 1.9196, 1.8874, 1.8519, 1.7826,\n",
            "         2.3957],\n",
            "        [2.5867, 2.4331, 3.6931, 2.8631, 1.9994, 2.8394, 2.3576, 2.1863, 2.2587,\n",
            "         2.2598],\n",
            "        [2.2436, 2.5661, 3.2491, 3.1749, 1.7272, 2.5003, 1.9673, 1.8453, 1.7232,\n",
            "         3.0510],\n",
            "        [2.3705, 2.0679, 3.4247, 2.8460, 1.4045, 2.3644, 1.9207, 1.2555, 1.7726,\n",
            "         2.9079]])\n"
          ]
        }
      ]
    },
    {
      "cell_type": "code",
      "source": [
        "## Shapes for matrix multiplication"
      ],
      "metadata": {
        "id": "BBcOALkXQE5s"
      },
      "execution_count": 67,
      "outputs": []
    },
    {
      "cell_type": "code",
      "source": [
        "tensor_A = torch.tensor([[1,2,3],\n",
        "                         [4,5,6]])\n"
      ],
      "metadata": {
        "id": "BYKl8w3hXFvu"
      },
      "execution_count": 68,
      "outputs": []
    },
    {
      "cell_type": "code",
      "source": [
        "tensor_B = torch.tensor([[11,12,13],\n",
        "                         [14,15,16]])\n"
      ],
      "metadata": {
        "id": "EF5QQottXY0e"
      },
      "execution_count": 69,
      "outputs": []
    },
    {
      "cell_type": "code",
      "source": [
        "tensor_c = torch.matmul(tensor_A,tensor_B)\n",
        "tensor_c"
      ],
      "metadata": {
        "colab": {
          "base_uri": "https://localhost:8080/",
          "height": 158
        },
        "id": "L5VC_Qx-Xm0L",
        "outputId": "173cf44d-57b3-47e4-c575-7dcd878a9c2d"
      },
      "execution_count": 71,
      "outputs": [
        {
          "output_type": "error",
          "ename": "RuntimeError",
          "evalue": "mat1 and mat2 shapes cannot be multiplied (2x3 and 2x3)",
          "traceback": [
            "\u001b[0;31m---------------------------------------------------------------------------\u001b[0m",
            "\u001b[0;31mRuntimeError\u001b[0m                              Traceback (most recent call last)",
            "\u001b[0;32m<ipython-input-71-cdd6d2364d13>\u001b[0m in \u001b[0;36m<cell line: 1>\u001b[0;34m()\u001b[0m\n\u001b[0;32m----> 1\u001b[0;31m \u001b[0mtensor_c\u001b[0m \u001b[0;34m=\u001b[0m \u001b[0mtorch\u001b[0m\u001b[0;34m.\u001b[0m\u001b[0mmatmul\u001b[0m\u001b[0;34m(\u001b[0m\u001b[0mtensor_A\u001b[0m\u001b[0;34m,\u001b[0m\u001b[0mtensor_B\u001b[0m\u001b[0;34m)\u001b[0m\u001b[0;34m\u001b[0m\u001b[0;34m\u001b[0m\u001b[0m\n\u001b[0m\u001b[1;32m      2\u001b[0m \u001b[0mtensor_c\u001b[0m\u001b[0;34m\u001b[0m\u001b[0;34m\u001b[0m\u001b[0m\n",
            "\u001b[0;31mRuntimeError\u001b[0m: mat1 and mat2 shapes cannot be multiplied (2x3 and 2x3)"
          ]
        }
      ]
    },
    {
      "cell_type": "code",
      "source": [
        "tensor_BB = tensor_B.T"
      ],
      "metadata": {
        "id": "HYwpQoOuXyXO"
      },
      "execution_count": 72,
      "outputs": []
    },
    {
      "cell_type": "code",
      "source": [
        "tensor_C = torch.matmul(tensor_A, tensor_BB)"
      ],
      "metadata": {
        "id": "H4P5pICZZAR5"
      },
      "execution_count": 73,
      "outputs": []
    },
    {
      "cell_type": "code",
      "source": [
        "tensor_C"
      ],
      "metadata": {
        "colab": {
          "base_uri": "https://localhost:8080/"
        },
        "id": "hsGVPbvBZYOZ",
        "outputId": "6a544ecd-e5cc-4cc0-d7bc-fbd86d6f10cb"
      },
      "execution_count": 74,
      "outputs": [
        {
          "output_type": "execute_result",
          "data": {
            "text/plain": [
              "tensor([[ 74,  92],\n",
              "        [182, 227]])"
            ]
          },
          "metadata": {},
          "execution_count": 74
        }
      ]
    },
    {
      "cell_type": "markdown",
      "source": [
        "The matrix multiplication operation works when tensor_B is transposed"
      ],
      "metadata": {
        "id": "azP5mg8kG36Z"
      }
    },
    {
      "cell_type": "code",
      "source": [
        "print(f\"Original Shapes : tensor_A = {tensor_A.shape}, tensor_B = {tensor_B.shape}\")"
      ],
      "metadata": {
        "colab": {
          "base_uri": "https://localhost:8080/"
        },
        "id": "YJTuW6ZeZZmX",
        "outputId": "870c1967-214d-4306-af48-fdbbbb6b9811"
      },
      "execution_count": 75,
      "outputs": [
        {
          "output_type": "stream",
          "name": "stdout",
          "text": [
            "Original Shapes : tensor_A = torch.Size([2, 3]), tensor_B = torch.Size([2, 3])\n"
          ]
        }
      ]
    },
    {
      "cell_type": "code",
      "source": [
        "print(f\"New Shapes after the transpose is : {tensor_A.shape} )same shape as above, {tensor_BB.shape}\")"
      ],
      "metadata": {
        "colab": {
          "base_uri": "https://localhost:8080/"
        },
        "id": "KCwsnJjHHX06",
        "outputId": "4b99e8f1-bde5-4805-9062-6f985e6c2f97"
      },
      "execution_count": 76,
      "outputs": [
        {
          "output_type": "stream",
          "name": "stdout",
          "text": [
            "New Shapes after the transpose is : torch.Size([2, 3]) )same shape as above, torch.Size([3, 2])\n"
          ]
        }
      ]
    },
    {
      "cell_type": "code",
      "source": [
        "print(f\"The Orginal shape of the tensors : {tensor_A.shape}, {tensor_B.shape}\")\n",
        "print(f\"The New shape of the tensors : {tensor_A.shape} ( Here the shape is same as before , {tensor_BB.shape} (Here the shape is transposed)\")\n",
        "print(f\"Multyplying : {tensor_A.shape} @ {tensor_BB.shape}\")\n",
        "print(\"output:\\n\")\n",
        "output = torch.matmul(tensor_A,tensor_BB)\n",
        "print(output)\n",
        "print(f\"\\n Output shape : {output.shape}\")"
      ],
      "metadata": {
        "colab": {
          "base_uri": "https://localhost:8080/"
        },
        "id": "hebd4rHoIzO6",
        "outputId": "f57149a1-2e6d-449c-bcfb-455840daf46b"
      },
      "execution_count": 77,
      "outputs": [
        {
          "output_type": "stream",
          "name": "stdout",
          "text": [
            "The Orginal shape of the tensors : torch.Size([2, 3]), torch.Size([2, 3])\n",
            "The New shape of the tensors : torch.Size([2, 3]) ( Here the shape is same as before , torch.Size([3, 2]) (Here the shape is transposed)\n",
            "Multyplying : torch.Size([2, 3]) @ torch.Size([3, 2])\n",
            "output:\n",
            "\n",
            "tensor([[ 74,  92],\n",
            "        [182, 227]])\n",
            "\n",
            " Output shape : torch.Size([2, 2])\n"
          ]
        }
      ]
    },
    {
      "cell_type": "code",
      "source": [
        "## Tensor Aggregation\n",
        "## Find the min,max,mean,sum, etc (tensor aggregation)"
      ],
      "metadata": {
        "id": "_jVpH2oTKd8C"
      },
      "execution_count": 78,
      "outputs": []
    },
    {
      "cell_type": "code",
      "source": [
        "# Create a tensor\n",
        "x = torch.arange(1,100,10)\n",
        "x"
      ],
      "metadata": {
        "colab": {
          "base_uri": "https://localhost:8080/"
        },
        "id": "qSf2kKIvNNs1",
        "outputId": "1eddd969-c2a9-46af-cc3b-336de236a650"
      },
      "execution_count": 79,
      "outputs": [
        {
          "output_type": "execute_result",
          "data": {
            "text/plain": [
              "tensor([ 1, 11, 21, 31, 41, 51, 61, 71, 81, 91])"
            ]
          },
          "metadata": {},
          "execution_count": 79
        }
      ]
    },
    {
      "cell_type": "code",
      "source": [
        "# Find the min\n",
        "torch.min(x)"
      ],
      "metadata": {
        "colab": {
          "base_uri": "https://localhost:8080/"
        },
        "id": "u90eeOFpNYEo",
        "outputId": "31598466-6299-4ee6-f8e8-34697ea66686"
      },
      "execution_count": 80,
      "outputs": [
        {
          "output_type": "execute_result",
          "data": {
            "text/plain": [
              "tensor(1)"
            ]
          },
          "metadata": {},
          "execution_count": 80
        }
      ]
    },
    {
      "cell_type": "code",
      "source": [
        "x.min()"
      ],
      "metadata": {
        "colab": {
          "base_uri": "https://localhost:8080/"
        },
        "id": "uY1TxBXWNmDz",
        "outputId": "b8f11f7e-1643-4ddb-ec82-920fbcc7d509"
      },
      "execution_count": 81,
      "outputs": [
        {
          "output_type": "execute_result",
          "data": {
            "text/plain": [
              "tensor(1)"
            ]
          },
          "metadata": {},
          "execution_count": 81
        }
      ]
    },
    {
      "cell_type": "code",
      "source": [
        "## Find the max\n",
        "torch.max(x)"
      ],
      "metadata": {
        "colab": {
          "base_uri": "https://localhost:8080/"
        },
        "id": "lDsHomjjNtT9",
        "outputId": "1aa49d44-66e6-4277-c660-941c477add7d"
      },
      "execution_count": 82,
      "outputs": [
        {
          "output_type": "execute_result",
          "data": {
            "text/plain": [
              "tensor(91)"
            ]
          },
          "metadata": {},
          "execution_count": 82
        }
      ]
    },
    {
      "cell_type": "code",
      "source": [
        "x.max()"
      ],
      "metadata": {
        "colab": {
          "base_uri": "https://localhost:8080/"
        },
        "id": "o5ebOugwN4Dt",
        "outputId": "dfab1c96-ac85-430d-8302-68f6f017cd1e"
      },
      "execution_count": 83,
      "outputs": [
        {
          "output_type": "execute_result",
          "data": {
            "text/plain": [
              "tensor(91)"
            ]
          },
          "metadata": {},
          "execution_count": 83
        }
      ]
    },
    {
      "cell_type": "code",
      "source": [
        "# Find the mean\n",
        "torch.mean(x,dtype = torch.float32)"
      ],
      "metadata": {
        "colab": {
          "base_uri": "https://localhost:8080/"
        },
        "id": "tclDIUZ-N7CB",
        "outputId": "08df979e-176a-4bec-ed4f-4405bac1c3a6"
      },
      "execution_count": 84,
      "outputs": [
        {
          "output_type": "execute_result",
          "data": {
            "text/plain": [
              "tensor(46.)"
            ]
          },
          "metadata": {},
          "execution_count": 84
        }
      ]
    },
    {
      "cell_type": "code",
      "source": [
        "torch.mean(x.type(torch.float32))"
      ],
      "metadata": {
        "colab": {
          "base_uri": "https://localhost:8080/"
        },
        "id": "yX6uRLeEQPO8",
        "outputId": "a3a1b107-c649-4fa8-cf02-d23dcfa66d6d"
      },
      "execution_count": 85,
      "outputs": [
        {
          "output_type": "execute_result",
          "data": {
            "text/plain": [
              "tensor(46.)"
            ]
          },
          "metadata": {},
          "execution_count": 85
        }
      ]
    },
    {
      "cell_type": "code",
      "source": [
        "torch.mean(...)"
      ],
      "metadata": {
        "colab": {
          "base_uri": "https://localhost:8080/",
          "height": 141
        },
        "id": "-g3xKSLFQtXM",
        "outputId": "6797acb5-ffae-4ca8-d78c-dbc997c6457a"
      },
      "execution_count": 86,
      "outputs": [
        {
          "output_type": "error",
          "ename": "TypeError",
          "evalue": "mean(): argument 'input' (position 1) must be Tensor, not ellipsis",
          "traceback": [
            "\u001b[0;31m---------------------------------------------------------------------------\u001b[0m",
            "\u001b[0;31mTypeError\u001b[0m                                 Traceback (most recent call last)",
            "\u001b[0;32m<ipython-input-86-097d25f8c731>\u001b[0m in \u001b[0;36m<cell line: 1>\u001b[0;34m()\u001b[0m\n\u001b[0;32m----> 1\u001b[0;31m \u001b[0mtorch\u001b[0m\u001b[0;34m.\u001b[0m\u001b[0mmean\u001b[0m\u001b[0;34m(\u001b[0m\u001b[0;34m...\u001b[0m\u001b[0;34m)\u001b[0m\u001b[0;34m\u001b[0m\u001b[0;34m\u001b[0m\u001b[0m\n\u001b[0m",
            "\u001b[0;31mTypeError\u001b[0m: mean(): argument 'input' (position 1) must be Tensor, not ellipsis"
          ]
        }
      ]
    },
    {
      "cell_type": "code",
      "source": [
        "## Find the Sum\n",
        "torch.sum(x) , x.sum()"
      ],
      "metadata": {
        "id": "cgAek7lpQvqo"
      },
      "execution_count": null,
      "outputs": []
    },
    {
      "cell_type": "code",
      "source": [
        "torch.argmin(x)"
      ],
      "metadata": {
        "id": "otqqeUDqR9rk"
      },
      "execution_count": null,
      "outputs": []
    },
    {
      "cell_type": "code",
      "source": [
        "torch.argmax(x)"
      ],
      "metadata": {
        "id": "sJwplWflSJR6"
      },
      "execution_count": null,
      "outputs": []
    },
    {
      "cell_type": "markdown",
      "source": [
        "Arg min and Arg max are used to find the positional minimum and maximum."
      ],
      "metadata": {
        "id": "3a4_gfbISXlv"
      }
    },
    {
      "cell_type": "markdown",
      "source": [
        "Returns the index position of the target tensor"
      ],
      "metadata": {
        "id": "lEVa0H10SlSt"
      }
    },
    {
      "cell_type": "code",
      "source": [
        "## Find the position in tensor that has the maximum value with argmax()"
      ],
      "metadata": {
        "id": "eh0zTDf9SMZr"
      },
      "execution_count": 87,
      "outputs": []
    },
    {
      "cell_type": "markdown",
      "source": [
        "## Reshaping ,stacking,squeezing and unsqueezing tensors\n",
        "\n",
        "* Reshaping - reshapes an input tensor to a defined shape\n",
        "* View - Return a view of an input tensor of certain shape but keep the same memory as the original tensor\n",
        "* Stacking - combine multiple tensors on top of each other ( Horizontal and Vertical are some of the many options)\n",
        "* Squeeze - remove all '1' dimensions from a tensor\n",
        "* Unsqueeze - add a '1' dimension to a target tensor\n",
        "* Permute - Return a view of the input with dimensions permuted (swapped) in a certain way"
      ],
      "metadata": {
        "id": "LIlSmXYxkJts"
      }
    },
    {
      "cell_type": "markdown",
      "source": [],
      "metadata": {
        "id": "K0ZQMCmRkK10"
      }
    },
    {
      "cell_type": "code",
      "source": [
        "## Let's create a tensor\n",
        "import torch\n",
        "x = torch.arange(1.,10.)\n",
        "x.shape"
      ],
      "metadata": {
        "colab": {
          "base_uri": "https://localhost:8080/"
        },
        "id": "kjI5NJy2kHGV",
        "outputId": "41480a47-a39a-4cee-8e4e-11e572871b86"
      },
      "execution_count": 88,
      "outputs": [
        {
          "output_type": "execute_result",
          "data": {
            "text/plain": [
              "torch.Size([9])"
            ]
          },
          "metadata": {},
          "execution_count": 88
        }
      ]
    },
    {
      "cell_type": "code",
      "source": [
        "x"
      ],
      "metadata": {
        "colab": {
          "base_uri": "https://localhost:8080/"
        },
        "id": "fEBo0FwQHw4n",
        "outputId": "44fc5d97-04a5-4272-ad43-bd3f16fa9ea8"
      },
      "execution_count": 89,
      "outputs": [
        {
          "output_type": "execute_result",
          "data": {
            "text/plain": [
              "tensor([1., 2., 3., 4., 5., 6., 7., 8., 9.])"
            ]
          },
          "metadata": {},
          "execution_count": 89
        }
      ]
    },
    {
      "cell_type": "code",
      "source": [
        "# Add an extra dimension\n",
        "x_reshaped = x.reshape(3,3)\n",
        "x_reshaped, x_reshaped.shape"
      ],
      "metadata": {
        "colab": {
          "base_uri": "https://localhost:8080/"
        },
        "id": "fUk8dvQSH3ni",
        "outputId": "de1a2a2d-0c45-49e4-c190-c8d917c56242"
      },
      "execution_count": 90,
      "outputs": [
        {
          "output_type": "execute_result",
          "data": {
            "text/plain": [
              "(tensor([[1., 2., 3.],\n",
              "         [4., 5., 6.],\n",
              "         [7., 8., 9.]]),\n",
              " torch.Size([3, 3]))"
            ]
          },
          "metadata": {},
          "execution_count": 90
        }
      ]
    },
    {
      "cell_type": "code",
      "source": [
        "# Change the view\n",
        "\n",
        "z = x.view(1,9)\n",
        "z, z.shape"
      ],
      "metadata": {
        "colab": {
          "base_uri": "https://localhost:8080/"
        },
        "id": "XoiWymDeIJ8j",
        "outputId": "201cb70e-1c45-4b02-f203-dc598db2968b"
      },
      "execution_count": 91,
      "outputs": [
        {
          "output_type": "execute_result",
          "data": {
            "text/plain": [
              "(tensor([[1., 2., 3., 4., 5., 6., 7., 8., 9.]]), torch.Size([1, 9]))"
            ]
          },
          "metadata": {},
          "execution_count": 91
        }
      ]
    },
    {
      "cell_type": "markdown",
      "source": [
        "Changing z changes x (because a view of a tensor shares the same memory as the original tensor\n"
      ],
      "metadata": {
        "id": "ERnIYXobJdc2"
      }
    },
    {
      "cell_type": "code",
      "source": [
        "z = torch.arange(1,10,2)\n",
        "x"
      ],
      "metadata": {
        "colab": {
          "base_uri": "https://localhost:8080/"
        },
        "id": "794EdyekJNzD",
        "outputId": "d725b250-b899-4421-c102-9690f1fe3d76"
      },
      "execution_count": 92,
      "outputs": [
        {
          "output_type": "execute_result",
          "data": {
            "text/plain": [
              "tensor([1., 2., 3., 4., 5., 6., 7., 8., 9.])"
            ]
          },
          "metadata": {},
          "execution_count": 92
        }
      ]
    },
    {
      "cell_type": "code",
      "source": [
        "z = x.view(3,3)\n",
        "z"
      ],
      "metadata": {
        "colab": {
          "base_uri": "https://localhost:8080/"
        },
        "id": "HE3uMaoTJyp2",
        "outputId": "2ec31272-2f39-4a87-974e-f02a3d6d6bd6"
      },
      "execution_count": 93,
      "outputs": [
        {
          "output_type": "execute_result",
          "data": {
            "text/plain": [
              "tensor([[1., 2., 3.],\n",
              "        [4., 5., 6.],\n",
              "        [7., 8., 9.]])"
            ]
          },
          "metadata": {},
          "execution_count": 93
        }
      ]
    },
    {
      "cell_type": "code",
      "source": [
        "x"
      ],
      "metadata": {
        "colab": {
          "base_uri": "https://localhost:8080/"
        },
        "id": "WVRDAniaJ-Uf",
        "outputId": "11cd0481-141d-4934-958c-85e76dc1f53e"
      },
      "execution_count": 94,
      "outputs": [
        {
          "output_type": "execute_result",
          "data": {
            "text/plain": [
              "tensor([1., 2., 3., 4., 5., 6., 7., 8., 9.])"
            ]
          },
          "metadata": {},
          "execution_count": 94
        }
      ]
    },
    {
      "cell_type": "code",
      "source": [
        "## Stack tensors on top of each other\n",
        "x_stacked = torch.stack([x,x,x,x],dim=1)\n",
        "x_stacked"
      ],
      "metadata": {
        "colab": {
          "base_uri": "https://localhost:8080/"
        },
        "id": "FLuYHGS0KBn2",
        "outputId": "ad80fb38-541a-4519-d9b4-ae739b70874d"
      },
      "execution_count": 95,
      "outputs": [
        {
          "output_type": "execute_result",
          "data": {
            "text/plain": [
              "tensor([[1., 1., 1., 1.],\n",
              "        [2., 2., 2., 2.],\n",
              "        [3., 3., 3., 3.],\n",
              "        [4., 4., 4., 4.],\n",
              "        [5., 5., 5., 5.],\n",
              "        [6., 6., 6., 6.],\n",
              "        [7., 7., 7., 7.],\n",
              "        [8., 8., 8., 8.],\n",
              "        [9., 9., 9., 9.]])"
            ]
          },
          "metadata": {},
          "execution_count": 95
        }
      ]
    },
    {
      "cell_type": "code",
      "source": [
        "x_stacked = torch.stack([x,\n",
        "                         x,\n",
        "                         x,\n",
        "                         x], dim = 0)"
      ],
      "metadata": {
        "id": "ARDzfvX-LuBA"
      },
      "execution_count": 96,
      "outputs": []
    },
    {
      "cell_type": "code",
      "source": [
        "x_stacked"
      ],
      "metadata": {
        "id": "5rwGuVrbQgD5",
        "colab": {
          "base_uri": "https://localhost:8080/"
        },
        "outputId": "378442d3-1e82-49a6-f935-55e20513d627"
      },
      "execution_count": 97,
      "outputs": [
        {
          "output_type": "execute_result",
          "data": {
            "text/plain": [
              "tensor([[1., 2., 3., 4., 5., 6., 7., 8., 9.],\n",
              "        [1., 2., 3., 4., 5., 6., 7., 8., 9.],\n",
              "        [1., 2., 3., 4., 5., 6., 7., 8., 9.],\n",
              "        [1., 2., 3., 4., 5., 6., 7., 8., 9.]])"
            ]
          },
          "metadata": {},
          "execution_count": 97
        }
      ]
    },
    {
      "cell_type": "markdown",
      "source": [
        "Torch Squeeze and Unsqueeze"
      ],
      "metadata": {
        "id": "vumtaXfGYFKh"
      }
    },
    {
      "cell_type": "markdown",
      "source": [
        "Torch Squeeze removes all single dimensions from a tensor."
      ],
      "metadata": {
        "id": "y7GN9FfyYOWT"
      }
    },
    {
      "cell_type": "code",
      "source": [
        "x = torch.zeros(2,1,2,1,2)\n",
        "x"
      ],
      "metadata": {
        "colab": {
          "base_uri": "https://localhost:8080/"
        },
        "id": "DPTSp4M6Rrve",
        "outputId": "8f68ec97-5feb-4763-ece4-7ef0d85d3aec"
      },
      "execution_count": 98,
      "outputs": [
        {
          "output_type": "execute_result",
          "data": {
            "text/plain": [
              "tensor([[[[[0., 0.]],\n",
              "\n",
              "          [[0., 0.]]]],\n",
              "\n",
              "\n",
              "\n",
              "        [[[[0., 0.]],\n",
              "\n",
              "          [[0., 0.]]]]])"
            ]
          },
          "metadata": {},
          "execution_count": 98
        }
      ]
    },
    {
      "cell_type": "code",
      "source": [
        "y = torch.squeeze(x)\n",
        "y\n",
        ""
      ],
      "metadata": {
        "colab": {
          "base_uri": "https://localhost:8080/"
        },
        "id": "cYM92c4AYpED",
        "outputId": "a77da3d6-fcda-4b51-d023-b2117717d4dc"
      },
      "execution_count": 99,
      "outputs": [
        {
          "output_type": "execute_result",
          "data": {
            "text/plain": [
              "tensor([[[0., 0.],\n",
              "         [0., 0.]],\n",
              "\n",
              "        [[0., 0.],\n",
              "         [0., 0.]]])"
            ]
          },
          "metadata": {},
          "execution_count": 99
        }
      ]
    },
    {
      "cell_type": "code",
      "source": [
        "y.size()"
      ],
      "metadata": {
        "colab": {
          "base_uri": "https://localhost:8080/"
        },
        "id": "-3ZXWyCcY7an",
        "outputId": "6d5ae201-da24-471d-f3d5-d465f1a96d06"
      },
      "execution_count": 100,
      "outputs": [
        {
          "output_type": "execute_result",
          "data": {
            "text/plain": [
              "torch.Size([2, 2, 2])"
            ]
          },
          "metadata": {},
          "execution_count": 100
        }
      ]
    },
    {
      "cell_type": "code",
      "source": [
        "x.size()"
      ],
      "metadata": {
        "colab": {
          "base_uri": "https://localhost:8080/"
        },
        "id": "kbPmjEk5ZPLQ",
        "outputId": "93bcbd02-08ca-4d87-ac83-233907023c38"
      },
      "execution_count": 101,
      "outputs": [
        {
          "output_type": "execute_result",
          "data": {
            "text/plain": [
              "torch.Size([2, 1, 2, 1, 2])"
            ]
          },
          "metadata": {},
          "execution_count": 101
        }
      ]
    },
    {
      "cell_type": "code",
      "source": [
        "print(f\"Previous tensor : {x}\")\n",
        "print(f\"Previous shape : {x.shape}\")\n",
        "\n",
        "# Remove extra dimensions from x\n",
        "x_squeezed = x.squeeze()\n",
        "print(f\"\\n New tensor : {x_squeezed}\")"
      ],
      "metadata": {
        "colab": {
          "base_uri": "https://localhost:8080/"
        },
        "id": "oaq6A24tZTNh",
        "outputId": "85490f14-e3d9-49fe-dd25-ec3acd5f60da"
      },
      "execution_count": 102,
      "outputs": [
        {
          "output_type": "stream",
          "name": "stdout",
          "text": [
            "Previous tensor : tensor([[[[[0., 0.]],\n",
            "\n",
            "          [[0., 0.]]]],\n",
            "\n",
            "\n",
            "\n",
            "        [[[[0., 0.]],\n",
            "\n",
            "          [[0., 0.]]]]])\n",
            "Previous shape : torch.Size([2, 1, 2, 1, 2])\n",
            "\n",
            " New tensor : tensor([[[0., 0.],\n",
            "         [0., 0.]],\n",
            "\n",
            "        [[0., 0.],\n",
            "         [0., 0.]]])\n"
          ]
        }
      ]
    },
    {
      "cell_type": "markdown",
      "source": [
        "Unsqueezing adds an extra dimension to the tensor"
      ],
      "metadata": {
        "id": "lITB12Rrcu5I"
      }
    },
    {
      "cell_type": "code",
      "source": [
        "print(f\"Previous tensor : {x_squeezed}\")\n",
        "print(f\"Previous Tensor Shape : {x_squeezed.shape}\")\n",
        "\n",
        "## Add an extra dimension to the Previous Tensor\n",
        "\n",
        "x_unsqueezed = x_squeezed.unsqueeze(dim=0)\n",
        "print(f\"\\n New Tensor : {x_unsqueezed}\")\n",
        "print(f\"\\n The Shape of the new tensor : {x_unsqueezed.shape}\")\n"
      ],
      "metadata": {
        "colab": {
          "base_uri": "https://localhost:8080/"
        },
        "id": "GTD3z_yaaNil",
        "outputId": "74a61114-b1e2-4a4c-b73c-e126d0c4f3d8"
      },
      "execution_count": 103,
      "outputs": [
        {
          "output_type": "stream",
          "name": "stdout",
          "text": [
            "Previous tensor : tensor([[[0., 0.],\n",
            "         [0., 0.]],\n",
            "\n",
            "        [[0., 0.],\n",
            "         [0., 0.]]])\n",
            "Previous Tensor Shape : torch.Size([2, 2, 2])\n",
            "\n",
            " New Tensor : tensor([[[[0., 0.],\n",
            "          [0., 0.]],\n",
            "\n",
            "         [[0., 0.],\n",
            "          [0., 0.]]]])\n",
            "\n",
            " The Shape of the new tensor : torch.Size([1, 2, 2, 2])\n"
          ]
        }
      ]
    },
    {
      "cell_type": "markdown",
      "source": [
        "Now let us try the tensor permutations where we change the order of dimensions or axis."
      ],
      "metadata": {
        "id": "W61BuJe-j5nh"
      }
    },
    {
      "cell_type": "code",
      "source": [
        "# Lets us first create a random image tensor\n",
        "\n",
        "x = torch.rand(224,224,3)\n",
        "x"
      ],
      "metadata": {
        "colab": {
          "base_uri": "https://localhost:8080/"
        },
        "id": "zbC2RZ5QdquU",
        "outputId": "05debd28-aab1-461c-f7df-cf4c578c118f"
      },
      "execution_count": 104,
      "outputs": [
        {
          "output_type": "execute_result",
          "data": {
            "text/plain": [
              "tensor([[[0.3988, 0.1735, 0.3531],\n",
              "         [0.0036, 0.6643, 0.6806],\n",
              "         [0.1617, 0.7675, 0.1909],\n",
              "         ...,\n",
              "         [0.9859, 0.4562, 0.7221],\n",
              "         [0.3256, 0.2412, 0.7397],\n",
              "         [0.0667, 0.0562, 0.3342]],\n",
              "\n",
              "        [[0.5779, 0.5488, 0.3087],\n",
              "         [0.9154, 0.9149, 0.0600],\n",
              "         [0.1758, 0.7027, 0.3371],\n",
              "         ...,\n",
              "         [0.7619, 0.2513, 0.1220],\n",
              "         [0.0206, 0.2444, 0.9415],\n",
              "         [0.9383, 0.6430, 0.0555]],\n",
              "\n",
              "        [[0.1122, 0.7525, 0.8843],\n",
              "         [0.4719, 0.9252, 0.5671],\n",
              "         [0.4300, 0.1646, 0.2310],\n",
              "         ...,\n",
              "         [0.3567, 0.0585, 0.3653],\n",
              "         [0.4843, 0.8688, 0.5261],\n",
              "         [0.5419, 0.3894, 0.7089]],\n",
              "\n",
              "        ...,\n",
              "\n",
              "        [[0.5342, 0.4071, 0.0737],\n",
              "         [0.4915, 0.0413, 0.3855],\n",
              "         [0.5405, 0.5835, 0.2951],\n",
              "         ...,\n",
              "         [0.7274, 0.4863, 0.2840],\n",
              "         [0.7075, 0.3511, 0.9657],\n",
              "         [0.1156, 0.7904, 0.6901]],\n",
              "\n",
              "        [[0.5354, 0.9866, 0.1724],\n",
              "         [0.9633, 0.5640, 0.0582],\n",
              "         [0.6290, 0.0553, 0.2827],\n",
              "         ...,\n",
              "         [0.3206, 0.0442, 0.0804],\n",
              "         [0.7258, 0.6342, 0.2800],\n",
              "         [0.0549, 0.4345, 0.4409]],\n",
              "\n",
              "        [[0.5409, 0.7348, 0.4159],\n",
              "         [0.4799, 0.8400, 0.1301],\n",
              "         [0.2754, 0.8866, 0.9026],\n",
              "         ...,\n",
              "         [0.3482, 0.1263, 0.2301],\n",
              "         [0.7455, 0.1957, 0.0474],\n",
              "         [0.1329, 0.3185, 0.7757]]])"
            ]
          },
          "metadata": {},
          "execution_count": 104
        }
      ]
    },
    {
      "cell_type": "code",
      "source": [
        "print(f\"The shape of the orginal tensor : {x.shape}\")\n",
        "print(f\" \\n When we permute the tensor , we get : {x.permute(2,0,1)}\")\n",
        "print(f\"\\n The shape of the original tensor is {x.shape} and the shape of the permuted tensor is \\n {x.permute(2,0,1).shape}\")"
      ],
      "metadata": {
        "colab": {
          "base_uri": "https://localhost:8080/"
        },
        "id": "szZ9mKYykSx9",
        "outputId": "edbcb418-5303-4696-89a7-e08b51c4fa1e"
      },
      "execution_count": 105,
      "outputs": [
        {
          "output_type": "stream",
          "name": "stdout",
          "text": [
            "The shape of the orginal tensor : torch.Size([224, 224, 3])\n",
            " \n",
            " When we permute the tensor , we get : tensor([[[0.3988, 0.0036, 0.1617,  ..., 0.9859, 0.3256, 0.0667],\n",
            "         [0.5779, 0.9154, 0.1758,  ..., 0.7619, 0.0206, 0.9383],\n",
            "         [0.1122, 0.4719, 0.4300,  ..., 0.3567, 0.4843, 0.5419],\n",
            "         ...,\n",
            "         [0.5342, 0.4915, 0.5405,  ..., 0.7274, 0.7075, 0.1156],\n",
            "         [0.5354, 0.9633, 0.6290,  ..., 0.3206, 0.7258, 0.0549],\n",
            "         [0.5409, 0.4799, 0.2754,  ..., 0.3482, 0.7455, 0.1329]],\n",
            "\n",
            "        [[0.1735, 0.6643, 0.7675,  ..., 0.4562, 0.2412, 0.0562],\n",
            "         [0.5488, 0.9149, 0.7027,  ..., 0.2513, 0.2444, 0.6430],\n",
            "         [0.7525, 0.9252, 0.1646,  ..., 0.0585, 0.8688, 0.3894],\n",
            "         ...,\n",
            "         [0.4071, 0.0413, 0.5835,  ..., 0.4863, 0.3511, 0.7904],\n",
            "         [0.9866, 0.5640, 0.0553,  ..., 0.0442, 0.6342, 0.4345],\n",
            "         [0.7348, 0.8400, 0.8866,  ..., 0.1263, 0.1957, 0.3185]],\n",
            "\n",
            "        [[0.3531, 0.6806, 0.1909,  ..., 0.7221, 0.7397, 0.3342],\n",
            "         [0.3087, 0.0600, 0.3371,  ..., 0.1220, 0.9415, 0.0555],\n",
            "         [0.8843, 0.5671, 0.2310,  ..., 0.3653, 0.5261, 0.7089],\n",
            "         ...,\n",
            "         [0.0737, 0.3855, 0.2951,  ..., 0.2840, 0.9657, 0.6901],\n",
            "         [0.1724, 0.0582, 0.2827,  ..., 0.0804, 0.2800, 0.4409],\n",
            "         [0.4159, 0.1301, 0.9026,  ..., 0.2301, 0.0474, 0.7757]]])\n",
            "\n",
            " The shape of the original tensor is torch.Size([224, 224, 3]) and the shape of the permuted tensor is \n",
            " torch.Size([3, 224, 224])\n"
          ]
        }
      ]
    },
    {
      "cell_type": "code",
      "source": [
        "# torch.unsqueeze()- adds a single dimension to a target tensor at speicific dim (dimension)"
      ],
      "metadata": {
        "id": "NlKMfP8mlaIA"
      },
      "execution_count": 106,
      "outputs": []
    },
    {
      "cell_type": "code",
      "source": [
        "x_original = x[0,0,0]"
      ],
      "metadata": {
        "id": "EghhqStgXMFv"
      },
      "execution_count": 107,
      "outputs": []
    },
    {
      "cell_type": "code",
      "source": [
        "x_original"
      ],
      "metadata": {
        "colab": {
          "base_uri": "https://localhost:8080/"
        },
        "id": "kcUaN6Q8ZhM2",
        "outputId": "a92229b4-c6d1-41aa-c2a4-6bb8236f15fd"
      },
      "execution_count": 108,
      "outputs": [
        {
          "output_type": "execute_result",
          "data": {
            "text/plain": [
              "tensor(0.3988)"
            ]
          },
          "metadata": {},
          "execution_count": 108
        }
      ]
    },
    {
      "cell_type": "markdown",
      "source": [
        "Indexing with pytorch is similar to indexing with Numpy"
      ],
      "metadata": {
        "id": "jr5YDX9vi8Ok"
      }
    },
    {
      "cell_type": "code",
      "source": [
        "## Indexing (selecting data )\n"
      ],
      "metadata": {
        "id": "4DZZCPtQZo7e"
      },
      "execution_count": 109,
      "outputs": []
    },
    {
      "cell_type": "code",
      "source": [
        "# Create a tensor\n",
        "import torch\n",
        "x = torch.arange(1,10).reshape(1,3,3)"
      ],
      "metadata": {
        "id": "sbW162u3jDjW"
      },
      "execution_count": 110,
      "outputs": []
    },
    {
      "cell_type": "code",
      "source": [
        "x"
      ],
      "metadata": {
        "colab": {
          "base_uri": "https://localhost:8080/"
        },
        "id": "JR17chJZkG6F",
        "outputId": "efa05130-8a61-4c83-d571-d1f8c52fa5c5"
      },
      "execution_count": 111,
      "outputs": [
        {
          "output_type": "execute_result",
          "data": {
            "text/plain": [
              "tensor([[[1, 2, 3],\n",
              "         [4, 5, 6],\n",
              "         [7, 8, 9]]])"
            ]
          },
          "metadata": {},
          "execution_count": 111
        }
      ]
    },
    {
      "cell_type": "code",
      "source": [
        "## Let's index on our new tensor\n",
        "x[0]"
      ],
      "metadata": {
        "colab": {
          "base_uri": "https://localhost:8080/"
        },
        "id": "GkTr10CbkGqT",
        "outputId": "8842471b-39dd-427f-a6ca-91cbfaca88f8"
      },
      "execution_count": 112,
      "outputs": [
        {
          "output_type": "execute_result",
          "data": {
            "text/plain": [
              "tensor([[1, 2, 3],\n",
              "        [4, 5, 6],\n",
              "        [7, 8, 9]])"
            ]
          },
          "metadata": {},
          "execution_count": 112
        }
      ]
    },
    {
      "cell_type": "code",
      "source": [
        "x[1]"
      ],
      "metadata": {
        "colab": {
          "base_uri": "https://localhost:8080/",
          "height": 141
        },
        "id": "Mo1qGYFakGbS",
        "outputId": "0b0681c1-b6c1-4273-dfb2-539f797bc4fb"
      },
      "execution_count": 113,
      "outputs": [
        {
          "output_type": "error",
          "ename": "IndexError",
          "evalue": "index 1 is out of bounds for dimension 0 with size 1",
          "traceback": [
            "\u001b[0;31m---------------------------------------------------------------------------\u001b[0m",
            "\u001b[0;31mIndexError\u001b[0m                                Traceback (most recent call last)",
            "\u001b[0;32m<ipython-input-113-fb0e0080324e>\u001b[0m in \u001b[0;36m<cell line: 1>\u001b[0;34m()\u001b[0m\n\u001b[0;32m----> 1\u001b[0;31m \u001b[0mx\u001b[0m\u001b[0;34m[\u001b[0m\u001b[0;36m1\u001b[0m\u001b[0;34m]\u001b[0m\u001b[0;34m\u001b[0m\u001b[0;34m\u001b[0m\u001b[0m\n\u001b[0m",
            "\u001b[0;31mIndexError\u001b[0m: index 1 is out of bounds for dimension 0 with size 1"
          ]
        }
      ]
    },
    {
      "cell_type": "code",
      "source": [
        " x = torch.tensor([[[1,2,3],\n",
        "                    [4,5,6],\n",
        "                    [7,8,9]]])\n"
      ],
      "metadata": {
        "id": "B8jUrlbjkGIt"
      },
      "execution_count": null,
      "outputs": []
    },
    {
      "cell_type": "code",
      "source": [
        "x"
      ],
      "metadata": {
        "id": "O0Lbm7eQdcB1"
      },
      "execution_count": null,
      "outputs": []
    },
    {
      "cell_type": "code",
      "source": [
        "x[:,2,2]"
      ],
      "metadata": {
        "id": "ZrMdBvExd2jq"
      },
      "execution_count": null,
      "outputs": []
    },
    {
      "cell_type": "code",
      "source": [
        "x[0,2,2]"
      ],
      "metadata": {
        "id": "K7YTWHn0eCXd"
      },
      "execution_count": null,
      "outputs": []
    },
    {
      "cell_type": "code",
      "source": [
        "x[:,:,2]"
      ],
      "metadata": {
        "id": "2fG_Gd0meK-x"
      },
      "execution_count": null,
      "outputs": []
    },
    {
      "cell_type": "code",
      "source": [
        "x[:,0,2]"
      ],
      "metadata": {
        "id": "4TJjMNrjetqk"
      },
      "execution_count": null,
      "outputs": []
    },
    {
      "cell_type": "markdown",
      "source": [
        "## Pytorch tensors and numpy\n",
        "\n",
        "Numpy is a popular scientific python library  and because of this , pytorch has functionality to interact with it\n",
        "\n",
        "Data in Numpy , want in Pytorch tyensor -> torch.from_numpy(ndarray)\n",
        "Pytorch tensor -> Numpy -> torch.Tensor.numpy()"
      ],
      "metadata": {
        "id": "JXkbVy_7hI7n"
      }
    },
    {
      "cell_type": "code",
      "source": [
        "## Pytorch tensors and numpy\n",
        "\n",
        "import torch\n",
        "import numpy as np\n",
        "array = np.arange(1.0,8.0)\n",
        "tensor = torch.from_numpy(array)\n",
        "\n"
      ],
      "metadata": {
        "id": "LPCTJur_fCRS"
      },
      "execution_count": null,
      "outputs": []
    },
    {
      "cell_type": "code",
      "source": [
        "tensor"
      ],
      "metadata": {
        "id": "Bz3KfHNPiXMb"
      },
      "execution_count": null,
      "outputs": []
    },
    {
      "cell_type": "code",
      "source": [
        "# change the value of array , what will this do to 'tensor'?"
      ],
      "metadata": {
        "id": "sOZ-APukiYKR"
      },
      "execution_count": 114,
      "outputs": []
    },
    {
      "cell_type": "code",
      "source": [
        "2+2"
      ],
      "metadata": {
        "colab": {
          "base_uri": "https://localhost:8080/"
        },
        "id": "z2FBqFzuBmnD",
        "outputId": "ef466c44-33b8-4e27-f13b-c6d87a91db17"
      },
      "execution_count": 115,
      "outputs": [
        {
          "output_type": "execute_result",
          "data": {
            "text/plain": [
              "4"
            ]
          },
          "metadata": {},
          "execution_count": 115
        }
      ]
    },
    {
      "cell_type": "code",
      "source": [
        "2+5"
      ],
      "metadata": {
        "colab": {
          "base_uri": "https://localhost:8080/"
        },
        "id": "F7xxa0fQBt4L",
        "outputId": "c89f3862-ef5d-4abf-97fd-0c79b69d35f5"
      },
      "execution_count": 116,
      "outputs": [
        {
          "output_type": "execute_result",
          "data": {
            "text/plain": [
              "7"
            ]
          },
          "metadata": {},
          "execution_count": 116
        }
      ]
    },
    {
      "cell_type": "markdown",
      "source": [
        "A B C D  E F G H I J K L M N O P Q R S T U V W X Y Z"
      ],
      "metadata": {
        "id": "Ot-FlJ5aCD79"
      }
    },
    {
      "cell_type": "code",
      "source": [
        "## tensor to Numpy array\n",
        "tensor = torch.ones(7)\n",
        "numpy_tensor = tensor.numpy()\n",
        "tensor, numpy_tensor"
      ],
      "metadata": {
        "colab": {
          "base_uri": "https://localhost:8080/"
        },
        "id": "mKPlVnqDByQ4",
        "outputId": "f27bc275-5dc9-43a2-dfe7-5eb0e688ee2e"
      },
      "execution_count": 117,
      "outputs": [
        {
          "output_type": "execute_result",
          "data": {
            "text/plain": [
              "(tensor([1., 1., 1., 1., 1., 1., 1.]),\n",
              " array([1., 1., 1., 1., 1., 1., 1.], dtype=float32))"
            ]
          },
          "metadata": {},
          "execution_count": 117
        }
      ]
    },
    {
      "cell_type": "markdown",
      "source": [
        "The data type of pytorch tensor is float64 and data type of numpy array is float 32. We have to be careful about this in future while converting pytorch tensor to numpy array and vice versa"
      ],
      "metadata": {
        "id": "SjSacXQFC_aP"
      }
    },
    {
      "cell_type": "code",
      "source": [
        "numpy_tensor.dtype"
      ],
      "metadata": {
        "colab": {
          "base_uri": "https://localhost:8080/"
        },
        "id": "AuBDXQ3OCrh7",
        "outputId": "82601716-088c-43d9-baa9-936b79c64c80"
      },
      "execution_count": 118,
      "outputs": [
        {
          "output_type": "execute_result",
          "data": {
            "text/plain": [
              "dtype('float32')"
            ]
          },
          "metadata": {},
          "execution_count": 118
        }
      ]
    },
    {
      "cell_type": "markdown",
      "source": [
        "Reproducibility : Trying to take out randomness out of random\n",
        "\n",
        "In short how a neural network learns:\n",
        "\n",
        "'start with random numbers -> tensor operations -> update random numbers to try and make them better representation of the data -> again -> again...\n",
        "\n",
        "To reduce the randomness in neural networks and pytorch comes the concept of a * random seed *\n",
        "\n",
        "What the random seed does is \"flavour\" the randomness"
      ],
      "metadata": {
        "id": "bItHd9aKEqqI"
      }
    },
    {
      "cell_type": "code",
      "source": [
        "# Create two random tensors\n",
        "random_tensor_A = torch.rand(3,4)\n",
        "random_tensor_B = torch.rand(3,4)\n",
        "print(random_tensor_A)\n",
        "print(random_tensor_B)\n",
        "print(random_tensor_A == random_tensor_B)"
      ],
      "metadata": {
        "colab": {
          "base_uri": "https://localhost:8080/"
        },
        "id": "FUdtfZLfC5Qi",
        "outputId": "eec5b695-6d3d-4cea-e9b2-9b56f4576680"
      },
      "execution_count": 119,
      "outputs": [
        {
          "output_type": "stream",
          "name": "stdout",
          "text": [
            "tensor([[0.5901, 0.3556, 0.0902, 0.1368],\n",
            "        [0.5222, 0.8242, 0.4011, 0.8274],\n",
            "        [0.6775, 0.4196, 0.2002, 0.3159]])\n",
            "tensor([[0.4568, 0.3555, 0.8211, 0.9061],\n",
            "        [0.8513, 0.7246, 0.9528, 0.7416],\n",
            "        [0.2236, 0.7144, 0.4552, 0.6373]])\n",
            "tensor([[False, False, False, False],\n",
            "        [False, False, False, False],\n",
            "        [False, False, False, False]])\n"
          ]
        }
      ]
    },
    {
      "cell_type": "code",
      "source": [
        "# Let's make some random but reproducible tensors\n",
        "import torch\n",
        "# Set the random_seed\n",
        "RANDOM_SEED = 42\n",
        "torch.manual_seed(RANDOM_SEED)\n",
        "random_tensor_c = torch.rand(3,4)\n",
        "\n",
        "torch.manual_seed(RANDOM_SEED)\n",
        "random_tensor_d = torch.rand(3,4)\n",
        "\n",
        "print(random_tensor_c)\n",
        "print(random_tensor_d)\n",
        "print(random_tensor_c == random_tensor_d)\n"
      ],
      "metadata": {
        "colab": {
          "base_uri": "https://localhost:8080/"
        },
        "id": "Qmt_Ely6HwBl",
        "outputId": "5297802e-2075-4a4a-fbfd-4360a66a2414"
      },
      "execution_count": 120,
      "outputs": [
        {
          "output_type": "stream",
          "name": "stdout",
          "text": [
            "tensor([[0.8823, 0.9150, 0.3829, 0.9593],\n",
            "        [0.3904, 0.6009, 0.2566, 0.7936],\n",
            "        [0.9408, 0.1332, 0.9346, 0.5936]])\n",
            "tensor([[0.8823, 0.9150, 0.3829, 0.9593],\n",
            "        [0.3904, 0.6009, 0.2566, 0.7936],\n",
            "        [0.9408, 0.1332, 0.9346, 0.5936]])\n",
            "tensor([[True, True, True, True],\n",
            "        [True, True, True, True],\n",
            "        [True, True, True, True]])\n"
          ]
        }
      ]
    },
    {
      "cell_type": "markdown",
      "source": [
        "## Running tensors and Pytorch objects on the GPUs ( and making faster computations)\n",
        "\n",
        "GPUs = faster computation on numbers , thanks to CUDA + NVIDIA hardware + Pytorch working behind the scenes to make everything good"
      ],
      "metadata": {
        "id": "TCl-tkMcRPeb"
      }
    },
    {
      "cell_type": "code",
      "source": [
        "!nvidia-smi"
      ],
      "metadata": {
        "colab": {
          "base_uri": "https://localhost:8080/"
        },
        "id": "8PQaIsu5Pq44",
        "outputId": "d8385922-4814-414a-a94d-c0da799a691a"
      },
      "execution_count": 121,
      "outputs": [
        {
          "output_type": "stream",
          "name": "stdout",
          "text": [
            "/bin/bash: line 1: nvidia-smi: command not found\n"
          ]
        }
      ]
    },
    {
      "cell_type": "code",
      "source": [
        "import torch\n",
        "torch.cuda.is_available()"
      ],
      "metadata": {
        "colab": {
          "base_uri": "https://localhost:8080/"
        },
        "id": "VB5sFVs4RKov",
        "outputId": "b8c5273e-5df8-4ae6-d191-de8ade93a36d"
      },
      "execution_count": 122,
      "outputs": [
        {
          "output_type": "execute_result",
          "data": {
            "text/plain": [
              "False"
            ]
          },
          "metadata": {},
          "execution_count": 122
        }
      ]
    },
    {
      "cell_type": "code",
      "source": [
        "## Setup device agnostic code\n",
        "device = \"cuda\" if torch.cuda.is_available() else \"cpu\""
      ],
      "metadata": {
        "id": "wmynpZnhTY0V"
      },
      "execution_count": 123,
      "outputs": []
    },
    {
      "cell_type": "code",
      "source": [
        "## count number of devices\n",
        "torch.cuda.device_count()"
      ],
      "metadata": {
        "colab": {
          "base_uri": "https://localhost:8080/"
        },
        "id": "LKigsojAT2m2",
        "outputId": "e1a1df30-c49f-4c91-dcfa-a1962540ac5e"
      },
      "execution_count": 124,
      "outputs": [
        {
          "output_type": "execute_result",
          "data": {
            "text/plain": [
              "0"
            ]
          },
          "metadata": {},
          "execution_count": 124
        }
      ]
    },
    {
      "cell_type": "code",
      "source": [
        "tensor = torch.tensor([1,2,3])"
      ],
      "metadata": {
        "id": "thkKH_sSUEmU"
      },
      "execution_count": 125,
      "outputs": []
    },
    {
      "cell_type": "code",
      "source": [
        "tensor.device"
      ],
      "metadata": {
        "colab": {
          "base_uri": "https://localhost:8080/"
        },
        "id": "IKkgCRFTYUEN",
        "outputId": "07a93409-3b17-42c6-f4cb-f5a36123d2d3"
      },
      "execution_count": 126,
      "outputs": [
        {
          "output_type": "execute_result",
          "data": {
            "text/plain": [
              "device(type='cpu')"
            ]
          },
          "metadata": {},
          "execution_count": 126
        }
      ]
    },
    {
      "cell_type": "code",
      "source": [
        "tensor_gpu = tensor.to(device)"
      ],
      "metadata": {
        "id": "JOvdFkdZYVch"
      },
      "execution_count": 127,
      "outputs": []
    },
    {
      "cell_type": "code",
      "source": [
        "tensor_gpu.device"
      ],
      "metadata": {
        "colab": {
          "base_uri": "https://localhost:8080/"
        },
        "id": "cbszoBnYYagY",
        "outputId": "79e215f2-1206-4f8b-98e2-80a801844815"
      },
      "execution_count": 128,
      "outputs": [
        {
          "output_type": "execute_result",
          "data": {
            "text/plain": [
              "device(type='cpu')"
            ]
          },
          "metadata": {},
          "execution_count": 128
        }
      ]
    },
    {
      "cell_type": "code",
      "source": [
        "tensor.cpu()"
      ],
      "metadata": {
        "colab": {
          "base_uri": "https://localhost:8080/"
        },
        "id": "YV5__xUiYc3D",
        "outputId": "03381915-83bb-44e0-b59b-508706250a0a"
      },
      "execution_count": 129,
      "outputs": [
        {
          "output_type": "execute_result",
          "data": {
            "text/plain": [
              "tensor([1, 2, 3])"
            ]
          },
          "metadata": {},
          "execution_count": 129
        }
      ]
    },
    {
      "cell_type": "code",
      "source": [],
      "metadata": {
        "id": "EuGeJ8kVZ0xC"
      },
      "execution_count": 129,
      "outputs": []
    },
    {
      "cell_type": "markdown",
      "source": [
        "##"
      ],
      "metadata": {
        "id": "mYaWtp0WrF6Y"
      }
    }
  ]
}